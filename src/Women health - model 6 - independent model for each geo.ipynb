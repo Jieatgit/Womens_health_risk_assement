{
 "cells": [
  {
   "cell_type": "code",
   "execution_count": 142,
   "metadata": {
    "collapsed": true
   },
   "outputs": [],
   "source": [
    "import pandas as pd\n",
    "import numpy as np\n",
    "import sklearn\n",
    "from sklearn.ensemble import RandomForestClassifier\n",
    "from sklearn.ensemble import GradientBoostingClassifier\n",
    "from sklearn.preprocessing import OneHotEncoder\n",
    "\n",
    "class encode_categorical_feature:\n",
    "    def __init__(self,feature):\n",
    "        self.f_set = []\n",
    "        self.feature = feature\n",
    "    def fit(self,data):\n",
    "        if self.feature in data.columns:\n",
    "            self.f_set = sorted(list(data[self.feature].unique()))\n",
    "            f_values   = data[self.feature].apply(lambda x: [self.f_set.index(x)])\n",
    "            self.encoder = OneHotEncoder().fit(list(f_values))\n",
    "    def transform(self,data):\n",
    "        if not self.f_set:\n",
    "            return data\n",
    "        f_values  = data[self.feature].apply(lambda x: [self.f_set.index(x)])\n",
    "        f_encoded = self.encoder.transform(list(f_values)).toarray()\n",
    "        f_df      = pd.DataFrame(f_encoded, columns=[self.feature+'_'+str(x) for x in self.f_set])\n",
    "        new_data  = pd.concat([data.reset_index(drop=True),f_df], axis=1)\n",
    "        new_data.drop(self.feature, axis=1, inplace=True)\n",
    "        return new_data\n",
    "\n",
    "def preprocess_data(train_data, test_data):\n",
    "    t = encode_categorical_feature('religion')\n",
    "    t.fit(train_data)\n",
    "    train_data = t.transform(train_data)\n",
    "    test_data  = t.transform(test_data)\n",
    "    \n",
    "    features = [x for x in train_data.columns if x not in ['patientID', 'geo','segment','subgroup','combined_label', 'INTNR' ]]\n",
    "    target = 'combined_label'\n",
    "    # train_data\n",
    "    train_data['combined_label'] = 100*train_data['geo'] + 10*train_data['segment'] + train_data['subgroup']\n",
    "    train_data = train_data.fillna(0)\n",
    "    X_train,y_train = train_data[features],train_data[target]\n",
    "    # test_data\n",
    "    test_data = test_data.fillna(0)\n",
    "    X_test = test_data[features]\n",
    "    \n",
    "    return X_train.values,y_train.values,X_test.values\n",
    "#     return X_train,y_train,X_test\n",
    "\n",
    "class geo_dependent_model:\n",
    "    def __init__(self):\n",
    "        self.geo_model= GradientBoostingClassifier( n_estimators=100,  max_depth=1, random_state=0, learning_rate=0.1)\n",
    "        self.seg_models =[ \n",
    "                    GradientBoostingClassifier( n_estimators=100,  max_depth=2,  random_state=0, learning_rate=0.1),\n",
    "                        RandomForestClassifier( n_estimators=1000, max_depth=13, random_state=0),\n",
    "                    GradientBoostingClassifier( n_estimators=100,  max_depth=1,  random_state=0, learning_rate=0.1),\n",
    "                    GradientBoostingClassifier( n_estimators=1000, max_depth=2,  random_state=0, learning_rate=0.1),\n",
    "                        RandomForestClassifier( n_estimators=400,  max_depth=10, random_state=0),\n",
    "                    GradientBoostingClassifier( n_estimators=100,  max_depth=1,  random_state=0, learning_rate=0.1),\n",
    "                        RandomForestClassifier( n_estimators=1200, max_depth=6 , random_state=0),\n",
    "                    GradientBoostingClassifier( n_estimators=100,  max_depth=1,  random_state=0, learning_rate=0.1),\n",
    "                    GradientBoostingClassifier( n_estimators=100,  max_depth=1,  random_state=0, learning_rate=0.1)\n",
    "                ]\n",
    "        \n",
    "    def fit(self, X_train, y_train):\n",
    "        geo_train = np.array([yy/100 for yy in y_train])\n",
    "        self.geo_model.fit(X_train,geo_train)\n",
    "        for geo in range(1,10):\n",
    "            geo_ind = [i for i in range(X_train.shape[0]) if geo_train[i]==geo]\n",
    "            X_geo_i_train = X_train[geo_ind,:]\n",
    "            y_geo_i_train = y_train[geo_ind]\n",
    "            self.seg_models[geo-1].fit(X_geo_i_train,y_geo_i_train)\n",
    "    \n",
    "    def predict(self,X_test):\n",
    "        y_pred = np.array([0]*X_test.shape[0])\n",
    "        geo_pred = self.geo_model.predict(X_test)\n",
    "        for geo in range(1,10):\n",
    "            geo_ind = [i for i in range(X_test.shape[0]) if geo_pred[i]==geo]\n",
    "            X_geo_i_test = X_test[geo_ind,:]\n",
    "            y_geo_i_pred = self.seg_models[geo-1].predict(X_geo_i_test)\n",
    "            y_pred[geo_ind] = y_geo_i_pred\n",
    "        return y_pred\n",
    "    \n",
    "    def score(self,X_test,y_test):\n",
    "        y_pred = self.predict(X_test)\n",
    "        pred_score = sklearn.metrics.accuracy_score(y_pred,y_test)\n",
    "        return pred_score\n",
    "\n",
    "\n",
    "def azureml_main(train_data = None, test_data = None):\n",
    "    features = [x for x in train_data.columns if x not in ['geo','segment','subgroup' ]]\n",
    "    test_data = test_data[features]\n",
    "    \n",
    "    X_train,y_train,X_test = preprocess_data(train_data, test_data)\n",
    "    \n",
    "    m = geo_dependent_model()\n",
    "    m.fit(X_train,y_train)\n",
    "    y_pred = m.predict(X_test)\n",
    "    \n",
    "#     test_data['Geo_Pred']      = y_pred/100\n",
    "#     test_data['Segment_Pred']  = y_pred/10%10\n",
    "#     test_data['Subgroup_Pred'] = y_pred%10\n",
    "    \n",
    "#     return test_data[['patientID','Geo_Pred','Segment_Pred','Subgroup_Pred']]\n",
    "    output = pd.DataFrame()\n",
    "    output['patientID']=test_data['patientID']\n",
    "    output['Geo_Pred']      = y_pred/100\n",
    "    output['Segment_Pred']  = y_pred/10%10\n",
    "    output['Subgroup_Pred'] = y_pred%10\n",
    "    return output\n",
    "\n"
   ]
  },
  {
   "cell_type": "code",
   "execution_count": 143,
   "metadata": {
    "collapsed": false
   },
   "outputs": [
    {
     "name": "stdout",
     "output_type": "stream",
     "text": [
      "0.859197577593\n"
     ]
    }
   ],
   "source": [
    "data = pd.read_csv('../datasets/WomenHealth_Training.csv')\n",
    "\n",
    "train_ind, valid_ind, y_train_ind, y_valid_ind = sklearn.cross_validation.train_test_split(range(data.shape[0]),range(data.shape[0]),test_size=0.25, random_state=42)\n",
    "train_data = data.loc[train_ind,:]\n",
    "test_data  = data.loc[valid_ind,:]\n",
    "\n",
    "pred = azureml_main(train_data, test_data)\n",
    "\n",
    "y_test = 100*test_data['geo'] + 10*test_data['segment'] + test_data['subgroup']\n",
    "y_pred = 100*pred['Geo_Pred'] + 10*pred['Segment_Pred'] + pred['Subgroup_Pred']\n",
    "print sklearn.metrics.accuracy_score(y_pred,y_test)"
   ]
  },
  {
   "cell_type": "code",
   "execution_count": 106,
   "metadata": {
    "collapsed": false
   },
   "outputs": [
    {
     "name": "stdout",
     "output_type": "stream",
     "text": [
      "0.961385576377\n"
     ]
    }
   ],
   "source": [
    "data = pd.read_csv('../datasets/WomenHealth_Training.csv')\n",
    "\n",
    "train_ind, valid_ind, y_train_ind, y_valid_ind = sklearn.cross_validation.train_test_split(range(data.shape[0]),range(data.shape[0]),test_size=0.25, random_state=42)\n",
    "train_data = data.ix[train_ind,:]\n",
    "test_data  = data.ix[valid_ind,:]\n",
    "\n",
    "pred = azureml_main(data, data)\n",
    "\n",
    "y_test = 100*data['geo'] + 10*data['segment'] + data['subgroup']\n",
    "y_pred = 100*pred['Geo_Pred'] + 10*pred['Segment_Pred'] + pred['Subgroup_Pred']\n",
    "print sklearn.metrics.accuracy_score(y_pred,y_test)"
   ]
  },
  {
   "cell_type": "code",
   "execution_count": 138,
   "metadata": {
    "collapsed": false
   },
   "outputs": [
    {
     "name": "stdout",
     "output_type": "stream",
     "text": [
      "1.0\n"
     ]
    }
   ],
   "source": [
    "data = pd.read_csv('../datasets/WomenHealth_Training.csv')\n",
    "\n",
    "train_ind = range(data.shape[0])\n",
    "valid_ind = [5251]\n",
    "train_data = data.loc[train_ind,:]\n",
    "test_data  = data.loc[valid_ind,:]\n",
    "\n",
    "pred = azureml_main(train_data, test_data)\n",
    "\n",
    "y_test = 100*test_data['geo'] + 10*test_data['segment'] + test_data['subgroup']\n",
    "y_pred = 100*pred['Geo_Pred'] + 10*pred['Segment_Pred'] + pred['Subgroup_Pred']\n",
    "print sklearn.metrics.accuracy_score(y_pred,y_test)"
   ]
  },
  {
   "cell_type": "code",
   "execution_count": null,
   "metadata": {
    "collapsed": false
   },
   "outputs": [],
   "source": []
  },
  {
   "cell_type": "code",
   "execution_count": null,
   "metadata": {
    "collapsed": false
   },
   "outputs": [],
   "source": []
  }
 ],
 "metadata": {
  "kernelspec": {
   "display_name": "Python 2",
   "language": "python",
   "name": "python2"
  },
  "language_info": {
   "codemirror_mode": {
    "name": "ipython",
    "version": 2
   },
   "file_extension": ".py",
   "mimetype": "text/x-python",
   "name": "python",
   "nbconvert_exporter": "python",
   "pygments_lexer": "ipython2",
   "version": "2.7.10"
  }
 },
 "nbformat": 4,
 "nbformat_minor": 0
}
