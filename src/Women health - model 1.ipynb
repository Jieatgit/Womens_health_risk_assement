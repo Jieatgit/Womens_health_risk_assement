{
 "cells": [
  {
   "cell_type": "code",
   "execution_count": 1,
   "metadata": {
    "collapsed": false
   },
   "outputs": [],
   "source": [
    "import pandas as pd\n",
    "import numpy as np\n",
    "import sklearn\n",
    "from sklearn import linear_model\n",
    "import matplotlib.pyplot as plt\n",
    "from sklearn.feature_selection import SelectKBest\n",
    "from sklearn.feature_selection import chi2\n",
    "%matplotlib inline"
   ]
  },
  {
   "cell_type": "code",
   "execution_count": 2,
   "metadata": {
    "collapsed": true
   },
   "outputs": [],
   "source": [
    "data = pd.read_csv('../datasets/WomenHealth_Training.csv')"
   ]
  },
  {
   "cell_type": "code",
   "execution_count": 3,
   "metadata": {
    "collapsed": false
   },
   "outputs": [
    {
     "name": "stdout",
     "output_type": "stream",
     "text": [
      "(5283, 50)\n",
      "Index([u'patientID', u'geo', u'christian', u'muslim', u'hindu', u'other', u'cellphone', u'motorcycle', u'radio', u'cooker', u'fridge', u'furniture', u'computer', u'cart', u'irrigation', u'thrasher', u'car', u'generator', u'INTNR', u'REGION_PROVINCE', u'DISTRICT', u'electricity', u'age', u'tribe', u'foodinsecurity', u'EVER_HAD_SEX', u'EVER_BEEN_PREGNANT', u'CHILDREN', u'india', u'married', u'multpart', u'educ', u'inschool', u'ownincome', u'literacy', u'religion', u'urbanicity', u'LaborDeliv', u'babydoc', u'Debut', u'ModCon', u'usecondom', u'hivknow', u'lowlit', u'highlit', u'urban', u'rural', u'single', u'segment', u'subgroup'], dtype='object')\n"
     ]
    }
   ],
   "source": [
    "print data.shape\n",
    "print data.columns\n",
    "# print data.head()"
   ]
  },
  {
   "cell_type": "code",
   "execution_count": 4,
   "metadata": {
    "collapsed": false
   },
   "outputs": [],
   "source": [
    "def encode_categorical_feature(data, feature):\n",
    "    from sklearn.preprocessing import OneHotEncoder\n",
    "    if feature not in data.columns:\n",
    "        return data\n",
    "    f_set     = sorted(list(data[feature].unique()))\n",
    "    f_values  = data[feature].apply(lambda x: [f_set.index(x)])\n",
    "    f_encoded = OneHotEncoder().fit_transform(list(f_values)).toarray()\n",
    "    f_df      = pd.DataFrame(f_encoded, columns=[feature+'_'+str(x) for x in f_set])\n",
    "    new_data  = pd.concat([data.reset_index(drop=True),f_df], axis=1)\n",
    "    new_data.drop(feature, axis=1, inplace=True)\n",
    "    return new_data"
   ]
  },
  {
   "cell_type": "code",
   "execution_count": 5,
   "metadata": {
    "collapsed": false
   },
   "outputs": [
    {
     "name": "stdout",
     "output_type": "stream",
     "text": [
      "(5283, 60)\n"
     ]
    }
   ],
   "source": [
    "data = encode_categorical_feature(data,'religion')\n",
    "# data = encode_categorical_feature(data,'REGION_PROVINCE')\n",
    "# data = encode_categorical_feature(data,'DISTRICT')\n",
    "# data = encode_categorical_feature(data,'tribe')\n",
    "# data = encode_categorical_feature(data,'foodinsecurity')\n",
    "\n",
    "print data.shape\n",
    "# print data.columns"
   ]
  },
  {
   "cell_type": "code",
   "execution_count": 6,
   "metadata": {
    "collapsed": false
   },
   "outputs": [],
   "source": [
    "data['combined_label'] = 100*data['geo'] + 10*data['segment'] + data['subgroup']\n",
    "data = data.fillna(0)"
   ]
  },
  {
   "cell_type": "code",
   "execution_count": 7,
   "metadata": {
    "collapsed": false
   },
   "outputs": [],
   "source": [
    "features = [x for x in data.columns if x not in ['patientID', 'geo','segment','subgroup','combined_label', 'INTNR' ]]\n",
    "target = 'combined_label'\n",
    "# data[features] = sklearn.preprocessing.normalize(data[features],norm='l2',axis=0)"
   ]
  },
  {
   "cell_type": "code",
   "execution_count": 8,
   "metadata": {
    "collapsed": false
   },
   "outputs": [
    {
     "name": "stdout",
     "output_type": "stream",
     "text": [
      "(3962, 55) (1321, 55)\n"
     ]
    }
   ],
   "source": [
    "X,y = data[features],data[target]\n",
    "X_train, X_valid, y_train, y_valid = sklearn.cross_validation.train_test_split(X,y,test_size=0.25, random_state=42)\n",
    "print X_train.shape, X_valid.shape"
   ]
  },
  {
   "cell_type": "markdown",
   "metadata": {},
   "source": [
    "## Logistic model"
   ]
  },
  {
   "cell_type": "code",
   "execution_count": 397,
   "metadata": {
    "collapsed": false
   },
   "outputs": [
    {
     "data": {
      "text/plain": [
       "0.79409538228614684"
      ]
     },
     "execution_count": 397,
     "metadata": {},
     "output_type": "execute_result"
    }
   ],
   "source": [
    "logreg = linear_model.LogisticRegression(C=1e5)\n",
    "logreg.fit(X_train, y_train)\n",
    "np.mean(logreg.predict(X_valid)==y_valid)"
   ]
  },
  {
   "cell_type": "code",
   "execution_count": 585,
   "metadata": {
    "collapsed": false
   },
   "outputs": [
    {
     "data": {
      "text/plain": [
       "0.80010032865608671"
      ]
     },
     "execution_count": 585,
     "metadata": {},
     "output_type": "execute_result"
    }
   ],
   "source": [
    "# average cross validation score\n",
    "logreg = linear_model.LogisticRegression(C=1e5)\n",
    "sklearn.cross_validation.cross_val_score(logreg, data[features],data[target],cv=4).mean()"
   ]
  },
  {
   "cell_type": "code",
   "execution_count": 387,
   "metadata": {
    "collapsed": false
   },
   "outputs": [
    {
     "data": {
      "text/plain": [
       "0.8035559660806455"
      ]
     },
     "execution_count": 387,
     "metadata": {},
     "output_type": "execute_result"
    }
   ],
   "source": [
    "# feature selection\n",
    "\n",
    "X_new = SelectKBest(chi2, k=30).fit_transform(X, y)\n",
    "sklearn.cross_validation.cross_val_score(logreg, X_new,data[target],cv=4).mean()"
   ]
  },
  {
   "cell_type": "code",
   "execution_count": null,
   "metadata": {
    "collapsed": false
   },
   "outputs": [],
   "source": [
    "score=[]\n",
    "for i in range(X.shape[1]):\n",
    "    X_new = SelectKBest(chi2, k=i).fit_transform(X, y)\n",
    "    score.append(np.mean(sklearn.cross_validation.cross_val_score(logreg, X_new,data[target],cv=4)))\n",
    "#     print i, score[i]\n",
    "print score"
   ]
  },
  {
   "cell_type": "code",
   "execution_count": 380,
   "metadata": {
    "collapsed": false
   },
   "outputs": [
    {
     "name": "stdout",
     "output_type": "stream",
     "text": [
      "max score = 0.8075, when use 34 features\n"
     ]
    },
    {
     "data": {
      "text/plain": [
       "[<matplotlib.lines.Line2D at 0x10fb66f90>]"
      ]
     },
     "execution_count": 380,
     "metadata": {},
     "output_type": "execute_result"
    },
    {
     "data": {
      "image/png": "[encoded data removed]",
      "text/plain": [
       "<matplotlib.figure.Figure at 0x10f5d2510>"
      ]
     },
     "metadata": {},
     "output_type": "display_data"
    }
   ],
   "source": [
    "f_count_best = np.array(score).argmax()\n",
    "print 'max score = %.4f, when use %d features' % ( np.array(score).max(), f_count_best)\n",
    "X_new = SelectKBest(chi2, k=f_count_best).fit_transform(X, y)\n",
    "plt.plot(score)"
   ]
  },
  {
   "cell_type": "code",
   "execution_count": 581,
   "metadata": {
    "collapsed": false
   },
   "outputs": [
    {
     "data": {
      "text/plain": [
       "34"
      ]
     },
     "execution_count": 581,
     "metadata": {},
     "output_type": "execute_result"
    }
   ],
   "source": [
    "f_count_best"
   ]
  },
  {
   "cell_type": "code",
   "execution_count": 590,
   "metadata": {
    "collapsed": false
   },
   "outputs": [
    {
     "name": "stdout",
     "output_type": "stream",
     "text": [
      "0.807332471747\n"
     ]
    }
   ],
   "source": [
    "bestK = SelectKBest(chi2, k=55).fit(X, y)\n",
    "bestK_ind = np.argsort(np.nan_to_num(bestK.scores_))[::-1]\n",
    "bestK_name = X.columns[bestK_ind]\n",
    "\n",
    "X34 = X[bestK_name[:34]]\n",
    "print np.mean(sklearn.cross_validation.cross_val_score(logreg, X34,data[target],cv=4))"
   ]
  },
  {
   "cell_type": "code",
   "execution_count": 418,
   "metadata": {
    "collapsed": false
   },
   "outputs": [
    {
     "name": "stderr",
     "output_type": "stream",
     "text": [
      "[Parallel(n_jobs=1)]: Done   1 jobs       | elapsed:    3.7s\n",
      "[Parallel(n_jobs=1)]: Done  32 out of  32 | elapsed:  6.8min finished\n"
     ]
    },
    {
     "name": "stdout",
     "output_type": "stream",
     "text": [
      "Fitting 4 folds for each of 8 candidates, totalling 32 fits\n",
      "0.80514891469\n",
      "LogisticRegression(C=1, class_weight=None, dual=False, fit_intercept=True,\n",
      "          intercept_scaling=1, penalty='l1', random_state=None, tol=0.0001)\n",
      "0.797880393641\n"
     ]
    }
   ],
   "source": [
    "from sklearn import grid_search\n",
    "parameters = {'penalty':('l1','l2'), \n",
    "              'C':[0.1, 1, 10, 100]}\n",
    "logreg = linear_model.LogisticRegression()\n",
    "logreg_grid = grid_search.GridSearchCV(logreg, parameters, cv=4, verbose =  1)\n",
    "logreg_grid.fit(X_train, y_train)\n",
    "print logreg_grid.best_score_\n",
    "print logreg_grid.best_estimator_\n",
    "print logreg_grid.score(X_valid, y_valid)"
   ]
  },
  {
   "cell_type": "code",
   "execution_count": 427,
   "metadata": {
    "collapsed": false
   },
   "outputs": [
    {
     "name": "stderr",
     "output_type": "stream",
     "text": [
      "[Parallel(n_jobs=1)]: Done   1 jobs       | elapsed:    5.4s\n",
      "[Parallel(n_jobs=1)]: Done  32 out of  32 | elapsed:  6.3min finished\n"
     ]
    },
    {
     "name": "stdout",
     "output_type": "stream",
     "text": [
      "Fitting 4 folds for each of 8 candidates, totalling 32 fits\n",
      "0.808252886617\n",
      "LogisticRegression(C=10, class_weight=None, dual=False, fit_intercept=True,\n",
      "          intercept_scaling=1, penalty='l1', random_state=None, tol=0.0001)\n"
     ]
    }
   ],
   "source": [
    "logreg_grid.fit(X_new, y)\n",
    "print logreg_grid.best_score_\n",
    "print logreg_grid.best_estimator_\n",
    "# print logreg_grid.score(X_valid, y_valid)"
   ]
  },
  {
   "cell_type": "markdown",
   "metadata": {},
   "source": [
    "# Stochastic gradient decent"
   ]
  },
  {
   "cell_type": "code",
   "execution_count": 424,
   "metadata": {
    "collapsed": false
   },
   "outputs": [
    {
     "name": "stdout",
     "output_type": "stream",
     "text": [
      "0.119211872767\n",
      "0.197334126896\n"
     ]
    }
   ],
   "source": [
    "# logistic\n",
    "sgdc = sklearn.linear_model.SGDClassifier(loss='log') \n",
    "print sklearn.cross_validation.cross_val_score(sgdc, data[features],data[target],cv=4).mean()\n",
    "# svm\n",
    "sgdc = sklearn.linear_model.SGDClassifier()\n",
    "print sklearn.cross_validation.cross_val_score(sgdc, data[features],data[target],cv=4).mean()"
   ]
  },
  {
   "cell_type": "code",
   "execution_count": null,
   "metadata": {
    "collapsed": true
   },
   "outputs": [],
   "source": []
  },
  {
   "cell_type": "markdown",
   "metadata": {},
   "source": [
    "## SVC model"
   ]
  },
  {
   "cell_type": "code",
   "execution_count": 386,
   "metadata": {
    "collapsed": false
   },
   "outputs": [
    {
     "data": {
      "text/plain": [
       "0.66352030938103557"
      ]
     },
     "execution_count": 386,
     "metadata": {},
     "output_type": "execute_result"
    }
   ],
   "source": [
    "# LinearSVC uses one-vs-rest\n",
    "lsvc = sklearn.svm.LinearSVC(C=0.01, penalty=\"l1\", dual=False)\n",
    "sklearn.cross_validation.cross_val_score(lsvc, data[features],data[target],cv=4).mean()"
   ]
  },
  {
   "cell_type": "code",
   "execution_count": 426,
   "metadata": {
    "collapsed": false
   },
   "outputs": [
    {
     "name": "stdout",
     "output_type": "stream",
     "text": [
      "0.827612317012\n",
      "SVC(C=0.1, cache_size=200, class_weight=None, coef0=0.0, degree=3, gamma=0.0,\n",
      "  kernel='linear', max_iter=-1, probability=False, random_state=None,\n",
      "  shrinking=True, tol=0.001, verbose=False)\n",
      "0.832702498107\n",
      "0.841567291312\n"
     ]
    }
   ],
   "source": [
    "# SVC uses one-vs-one\n",
    "from sklearn import svm, grid_search\n",
    "parameters = {'kernel':('linear', 'rbf', 'sigmoid'), \n",
    "              'C':[0.1, 1, 10, 100]}\n",
    "param_grid = [\n",
    "  {'C':[0.1, 1, 10, 100], 'kernel': ['linear']},\n",
    "  {'C':[0.1, 1, 10, 100], 'gamma': [0.001, 0.0001], 'kernel': ['rbf']},\n",
    " ]\n",
    "svr = svm.SVC()\n",
    "svmclf = grid_search.GridSearchCV(svr, parameters, cv=4)\n",
    "svmclf.fit(X_train, y_train)\n",
    "print svmclf.best_score_\n",
    "print svmclf.best_estimator_\n",
    "print svmclf.score(X_valid, y_valid)\n",
    "# use best subset\n",
    "svmclf.fit(X_new, y)\n",
    "print svmclf.best_score_"
   ]
  },
  {
   "cell_type": "code",
   "execution_count": null,
   "metadata": {
    "collapsed": false
   },
   "outputs": [],
   "source": []
  },
  {
   "cell_type": "markdown",
   "metadata": {},
   "source": [
    "## gbm"
   ]
  },
  {
   "cell_type": "code",
   "execution_count": 428,
   "metadata": {
    "collapsed": false
   },
   "outputs": [
    {
     "data": {
      "text/plain": [
       "0.015897047691143074"
      ]
     },
     "execution_count": 428,
     "metadata": {},
     "output_type": "execute_result"
    }
   ],
   "source": [
    "from sklearn.ensemble import GradientBoostingClassifier\n",
    "gbm = GradientBoostingClassifier(n_estimators=100, learning_rate=1.0,\n",
    "                                 max_depth=4, random_state=0)\n",
    "# sklearn.cross_validation.cross_val_score(gbm, data[features],data[target],cv=4).mean()\n",
    "gbm.fit(X_train,y_train)\n",
    "gbm.score(X_valid, y_valid)"
   ]
  },
  {
   "cell_type": "code",
   "execution_count": null,
   "metadata": {
    "collapsed": false
   },
   "outputs": [],
   "source": [
    "gbm = GradientBoostingClassifier(n_estimators=1000, random_state=0)\n",
    "# sklearn.cross_validation.cross_val_score(gbm, data[features],data[target],cv=4).mean()\n",
    "gbm.fit(X_train,y_train)\n",
    "gbm.score(X_valid, y_valid)"
   ]
  },
  {
   "cell_type": "code",
   "execution_count": null,
   "metadata": {
    "collapsed": false
   },
   "outputs": [],
   "source": [
    "import time\n",
    "start_time = time.time()\n",
    "param_grid = {'n_estimators':[100,300],\n",
    "              'learning_rate':[0.1,1.0],\n",
    "              'max_depth':[1,2,3,4],\n",
    "              'random_state':[0]}\n",
    "gbm0 = GradientBoostingClassifier()\n",
    "gbm_grid = grid_search.GridSearchCV(gbm0, param_grid)\n",
    "gbm_grid.fit(X_new,y)\n",
    "print gbm_grid.best_score_\n",
    "end_time = time.time()\n",
    "print end_time-start_time"
   ]
  },
  {
   "cell_type": "code",
   "execution_count": null,
   "metadata": {
    "collapsed": true
   },
   "outputs": [],
   "source": []
  },
  {
   "cell_type": "code",
   "execution_count": 429,
   "metadata": {
    "collapsed": false
   },
   "outputs": [
    {
     "data": {
      "text/plain": [
       "0.24299772899318697"
      ]
     },
     "execution_count": 429,
     "metadata": {},
     "output_type": "execute_result"
    }
   ],
   "source": [
    "from sklearn.ensemble import AdaBoostClassifier\n",
    "adbost = AdaBoostClassifier(n_estimators=100)\n",
    "adbost.fit(X_train,y_train)\n",
    "adbost.score(X_valid, y_valid)"
   ]
  },
  {
   "cell_type": "markdown",
   "metadata": {},
   "source": [
    "## rf"
   ]
  },
  {
   "cell_type": "code",
   "execution_count": 446,
   "metadata": {
    "collapsed": false
   },
   "outputs": [
    {
     "data": {
      "text/plain": [
       "0.8455507028893906"
      ]
     },
     "execution_count": 446,
     "metadata": {},
     "output_type": "execute_result"
    }
   ],
   "source": [
    "from sklearn.ensemble import RandomForestClassifier\n",
    "rf = RandomForestClassifier(n_estimators=1000)\n",
    "sklearn.cross_validation.cross_val_score(rf, data[features],data[target],cv=4).mean()"
   ]
  },
  {
   "cell_type": "code",
   "execution_count": 447,
   "metadata": {
    "collapsed": false
   },
   "outputs": [
    {
     "data": {
      "text/plain": [
       "RandomForestClassifier(bootstrap=True, compute_importances=None,\n",
       "            criterion='gini', max_depth=None, max_features='auto',\n",
       "            max_leaf_nodes=None, min_density=None, min_samples_leaf=1,\n",
       "            min_samples_split=2, n_estimators=1000, n_jobs=1,\n",
       "            oob_score=False, random_state=None, verbose=0)"
      ]
     },
     "execution_count": 447,
     "metadata": {},
     "output_type": "execute_result"
    }
   ],
   "source": [
    "rf"
   ]
  },
  {
   "cell_type": "code",
   "execution_count": 440,
   "metadata": {
    "collapsed": false
   },
   "outputs": [
    {
     "name": "stdout",
     "output_type": "stream",
     "text": [
      "0.841756577702\n",
      "{'n_estimators': 300, 'random_state': 0}\n",
      "28.7876620293\n"
     ]
    }
   ],
   "source": [
    "import time\n",
    "start_time = time.time()\n",
    "param_grid = {'n_estimators':[100,300,500],\n",
    "#               'max_depth':[1,2,3,4],\n",
    "              'random_state':[0]}\n",
    "rf0 = RandomForestClassifier()\n",
    "rf_grid = grid_search.GridSearchCV(rf0, param_grid, cv=4)\n",
    "rf_grid.fit(X,y)\n",
    "print rf_grid.best_score_\n",
    "print rf_grid.best_params_\n",
    "end_time = time.time()\n",
    "print end_time-start_time"
   ]
  },
  {
   "cell_type": "code",
   "execution_count": 441,
   "metadata": {
    "collapsed": false
   },
   "outputs": [
    {
     "name": "stdout",
     "output_type": "stream",
     "text": [
      "0.848381601363\n",
      "{'n_estimators': 300, 'random_state': 0}\n",
      "24.1046199799\n"
     ]
    }
   ],
   "source": [
    "import time\n",
    "start_time = time.time()\n",
    "param_grid = {'n_estimators':[100,300,500],\n",
    "#               'max_depth':[1,2,3,4],\n",
    "              'random_state':[0]}\n",
    "rf0 = RandomForestClassifier()\n",
    "rf_grid = grid_search.GridSearchCV(rf0, param_grid, cv=4)\n",
    "rf_grid.fit(X_new,y)\n",
    "print rf_grid.best_score_\n",
    "print rf_grid.best_params_\n",
    "end_time = time.time()\n",
    "print end_time-start_time"
   ]
  },
  {
   "cell_type": "code",
   "execution_count": 444,
   "metadata": {
    "collapsed": false
   },
   "outputs": [
    {
     "name": "stdout",
     "output_type": "stream",
     "text": [
      "0.849895892485\n",
      "{'n_estimators': 1000, 'random_state': 0, 'max_depth': 15}\n",
      "727.2606709\n"
     ]
    }
   ],
   "source": [
    "import time\n",
    "start_time = time.time()\n",
    "param_grid = {'n_estimators':[1000,2000,5000],\n",
    "              'max_depth':[1,5,10,15,20],\n",
    "              'random_state':[0]}\n",
    "rf0 = RandomForestClassifier()\n",
    "rf_grid = grid_search.GridSearchCV(rf0, param_grid, cv=4)\n",
    "rf_grid.fit(X_new,y)\n",
    "print rf_grid.best_score_\n",
    "print rf_grid.best_params_\n",
    "end_time = time.time()\n",
    "print end_time-start_time"
   ]
  },
  {
   "cell_type": "code",
   "execution_count": 445,
   "metadata": {
    "collapsed": false
   },
   "outputs": [
    {
     "name": "stdout",
     "output_type": "stream",
     "text": [
      "0.850274465266\n",
      "{'n_estimators': 1000, 'random_state': 0, 'max_depth': 13}\n",
      "718.757955074\n"
     ]
    }
   ],
   "source": [
    "import time\n",
    "start_time = time.time()\n",
    "param_grid = {'n_estimators':[800,900,1000,1100,1200],\n",
    "              'max_depth':[12,13,14,15,16,17],\n",
    "              'random_state':[0]}\n",
    "rf0 = RandomForestClassifier()\n",
    "rf_grid = grid_search.GridSearchCV(rf0, param_grid, cv=4)\n",
    "rf_grid.fit(X_new,y)\n",
    "print rf_grid.best_score_\n",
    "print rf_grid.best_params_\n",
    "end_time = time.time()\n",
    "print end_time-start_time"
   ]
  },
  {
   "cell_type": "code",
   "execution_count": null,
   "metadata": {
    "collapsed": true
   },
   "outputs": [],
   "source": []
  },
  {
   "cell_type": "code",
   "execution_count": 454,
   "metadata": {
    "collapsed": false
   },
   "outputs": [
    {
     "name": "stdout",
     "output_type": "stream",
     "text": [
      "0.840664182122\n"
     ]
    },
    {
     "data": {
      "text/plain": [
       "[<matplotlib.lines.Line2D at 0x15ab70f50>]"
      ]
     },
     "execution_count": 454,
     "metadata": {},
     "output_type": "execute_result"
    },
    {
     "data": {
      "image/png": "[encoded data removed]",
      "text/plain": [
       "<matplotlib.figure.Figure at 0x135341110>"
      ]
     },
     "metadata": {},
     "output_type": "display_data"
    }
   ],
   "source": [
    "# fit rf with all 55 features \n",
    "rf = RandomForestClassifier(n_estimators=1000, max_depth=13, random_state=0)\n",
    "print sklearn.cross_validation.cross_val_score(rf, X,y,cv=4).mean()\n",
    "rf.fit(X,y)\n",
    "plt.plot(rf.feature_importances_)"
   ]
  },
  {
   "cell_type": "code",
   "execution_count": 485,
   "metadata": {
    "collapsed": false
   },
   "outputs": [
    {
     "name": "stdout",
     "output_type": "stream",
     "text": [
      "0.0 54 0.838944010386\n",
      "0.001 49 0.845391305789\n",
      "0.002 46 0.840657950627\n",
      "0.003 44 0.840086752277\n",
      "0.004 42 0.843493447339\n",
      "0.005 40 0.844828681732\n",
      "0.006 35 0.842965233151\n",
      "0.007 31 0.847508926145\n",
      "0.008 26 0.852039751906\n",
      "0.009 26 0.852039751906\n",
      "0.01 25 0.855638374435\n",
      "0.011 25 0.855638374435\n",
      "0.012 23 0.849935159573\n",
      "0.013 20 0.853524964356\n",
      "0.014 19 0.843488560154\n",
      "0.015 18 0.843294919768\n",
      "0.016 18 0.843294919768\n",
      "0.017 16 0.84386174768\n",
      "0.018 16 0.84386174768\n",
      "0.019 14 0.828146567059\n",
      "0.02 14 0.828146567059\n"
     ]
    }
   ],
   "source": [
    "# feature selection by rf.feature_importances_. Select from original 55 features\n",
    "score = []\n",
    "for feature_cut in np.linspace(0.00,0.02,21):\n",
    "    selected_features = X.columns[rf.feature_importances_>feature_cut]\n",
    "    X_selected = X[selected_features]\n",
    "    rf1 = RandomForestClassifier(n_estimators=1000, max_depth=13, random_state=0)\n",
    "    score.append(sklearn.cross_validation.cross_val_score(rf1, X_selected,y,cv=4).mean())\n",
    "    print feature_cut, len(selected_features), score[-1]\n",
    "    # rf1.fit(X_selected,y)\n",
    "    # plt.plot(rf1.feature_importances_)"
   ]
  },
  {
   "cell_type": "code",
   "execution_count": 486,
   "metadata": {
    "collapsed": false
   },
   "outputs": [
    {
     "data": {
      "text/plain": [
       "[<matplotlib.lines.Line2D at 0x17ef1a3d0>]"
      ]
     },
     "execution_count": 486,
     "metadata": {},
     "output_type": "execute_result"
    },
    {
     "data": {
      "image/png": "[encoded data removed]",
      "text/plain": [
       "<matplotlib.figure.Figure at 0x169f58810>"
      ]
     },
     "metadata": {},
     "output_type": "display_data"
    }
   ],
   "source": [
    "plt.plot(np.linspace(0.00,0.02,21), score, 'b.')"
   ]
  },
  {
   "cell_type": "code",
   "execution_count": null,
   "metadata": {
    "collapsed": false
   },
   "outputs": [],
   "source": []
  },
  {
   "cell_type": "code",
   "execution_count": 487,
   "metadata": {
    "collapsed": false
   },
   "outputs": [
    {
     "name": "stdout",
     "output_type": "stream",
     "text": [
      "0.850304221372\n"
     ]
    },
    {
     "data": {
      "text/plain": [
       "[<matplotlib.lines.Line2D at 0x17e992890>]"
      ]
     },
     "execution_count": 487,
     "metadata": {},
     "output_type": "execute_result"
    },
    {
     "data": {
      "image/png": "[encoded data removed]",
      "text/plain": [
       "<matplotlib.figure.Figure at 0x17efaf8d0>"
      ]
     },
     "metadata": {},
     "output_type": "display_data"
    }
   ],
   "source": [
    "# fit rf with features selected by best_feature(chi2, n=34)\n",
    "rf_new = RandomForestClassifier(n_estimators=1000, max_depth=13, random_state=0)\n",
    "print sklearn.cross_validation.cross_val_score(rf_new, X_new,y,cv=4).mean()\n",
    "rf_new.fit(X_new,y)\n",
    "plt.plot(rf_new.feature_importances_)"
   ]
  },
  {
   "cell_type": "code",
   "execution_count": 516,
   "metadata": {
    "collapsed": false
   },
   "outputs": [
    {
     "name": "stdout",
     "output_type": "stream",
     "text": [
      "0.004 30 0.850304221372\n",
      "0.005 29 0.847276166684\n",
      "0.006 28 0.850884986903\n",
      "0.007 26 0.849930384891\n",
      "0.008 24 0.847647315175\n",
      "0.009 24 0.847647315175\n",
      "0.01 23 0.84748163955\n",
      "0.011 21 0.849350380189\n",
      "0.012 19 0.850497878946\n",
      "0.013 18 0.85179715197\n",
      "0.014 18 0.85179715197\n",
      "0.015 18 0.85179715197\n",
      "0.016 17 0.852377513257\n",
      "0.017 16 0.855585502141\n",
      "0.018 15 0.837614246659\n"
     ]
    }
   ],
   "source": [
    "# feature selection by rf.feature_importances_. Select from 34 features that were selected by best_feature(chi2, n=34)\n",
    "score_new = []\n",
    "for feature_cut in np.linspace(0.004,0.018,15):\n",
    "    X_selected = X_new[:,rf_new.feature_importances_>=feature_cut]\n",
    "    rf1 = RandomForestClassifier(n_estimators=1000, max_depth=13, random_state=0)\n",
    "    score_new.append(sklearn.cross_validation.cross_val_score(rf1, X_selected,y,cv=4).mean())\n",
    "    print feature_cut, X_selected.shape[1], score[-1]\n",
    "    # rf1.fit(X_selected,y)\n",
    "    # plt.plot(rf1.feature_importances_)"
   ]
  },
  {
   "cell_type": "code",
   "execution_count": 521,
   "metadata": {
    "collapsed": false
   },
   "outputs": [
    {
     "data": {
      "text/plain": [
       "[<matplotlib.lines.Line2D at 0x15afb5290>]"
      ]
     },
     "execution_count": 521,
     "metadata": {},
     "output_type": "execute_result"
    },
    {
     "data": {
      "image/png": "[encoded data removed]",
      "text/plain": [
       "<matplotlib.figure.Figure at 0x15a0500d0>"
      ]
     },
     "metadata": {},
     "output_type": "display_data"
    }
   ],
   "source": [
    "plt.plot(np.linspace(0.004,0.018,15), score_new, 'b.')"
   ]
  },
  {
   "cell_type": "code",
   "execution_count": 525,
   "metadata": {
    "collapsed": false
   },
   "outputs": [
    {
     "name": "stdout",
     "output_type": "stream",
     "text": [
      " 1 0.481523616027\n",
      "2 0.476865841496\n",
      "3 0.482164616043\n",
      "4 0.543672581775\n",
      "5 0.546877365922\n",
      "6 0.547060617987\n",
      "7 0.547638291914\n",
      "8 0.552558913621\n",
      "9 0.550869863096\n",
      "10 0.553140439982\n",
      "11 0.582833653716\n",
      "12 0.618263403348\n",
      "13 0.625792102022\n",
      "14 0.620754889397\n",
      "15 0.661380356348\n",
      "16 0.74372535325\n",
      "17 0.811120446887\n",
      "18 0.809998177245\n",
      "19 0.826060913292\n",
      "20 0.825878760825\n",
      "21 0.824551505852\n",
      "22 0.823783426745\n",
      "23 0.82265018656\n",
      "24 0.829648368855\n",
      "25 0.830799298612\n",
      "26 0.838509905043\n",
      "27 0.851787911534\n",
      "28 0.851047523266\n",
      "29 0.851042879533\n",
      "30 0.850304221372\n",
      "31 0.845566935649\n",
      "32 0.843661763296\n",
      "33 0.844995409925\n",
      "34 0.846349546621\n",
      "35 0.844260670301\n",
      "36 0.851462707859\n",
      "37 0.849022441496\n",
      "38 0.846722800251\n",
      "39 0.846902960712\n",
      "40 0.846894981293\n",
      "41 0.846329818013\n",
      "42 0.844060067432\n",
      "43 0.845205187756\n",
      "44 0.843684952746\n",
      "45 0.842556843829\n",
      "46 0.84104017077\n",
      "47 0.83895024188\n",
      "48 0.838181627581\n",
      "49 0.844450897502\n",
      "50 0.843492995438\n",
      "51 0.842177311675\n",
      "52 0.84178789076\n",
      "53 0.840473776942\n",
      "54 0.838944010386\n",
      "[0.48152361602657234, 0.47686584149631173, 0.48216461604317573, 0.54367258177474032, 0.54687736592179559, 0.54706061798688588, 0.54763829191389957, 0.55255891362143639, 0.5508698630963389, 0.55314043998208318, 0.58283365371554385, 0.61826340334789975, 0.62579210202235847, 0.62075488939684864, 0.66138035634804282, 0.74372535325003286, 0.81112044688714291, 0.80999817724484613, 0.82606091329197828, 0.82587876082521405, 0.82455150585168291, 0.82378342674511773, 0.82265018656004285, 0.82964836885452908, 0.83079929861243595, 0.83850990504308098, 0.85178791153400724, 0.85104752326557331, 0.85104287953307434, 0.85030422137156936, 0.84556693564943775, 0.84366176329554809, 0.84499540992547351, 0.84634954662130357, 0.84426067030095009, 0.85146270785892875, 0.84902244149591621, 0.84672280025095403, 0.84690296071186155, 0.84689498129321827, 0.84632981801346574, 0.84406006743190376, 0.84520518775563702, 0.84368495274586053, 0.84255684382859075, 0.8410401707699533, 0.83895024188042278, 0.83818162758078585, 0.84445089750188873, 0.84349299543799283, 0.84217731167504339, 0.84178789076007776, 0.84047377694241088, 0.8389440103856749]\n",
      "max score = 0.8518, when use 27 features\n"
     ]
    },
    {
     "data": {
      "text/plain": [
       "[<matplotlib.lines.Line2D at 0x1361d2590>]"
      ]
     },
     "execution_count": 525,
     "metadata": {},
     "output_type": "execute_result"
    },
    {
     "data": {
      "image/png": "[encoded data removed]",
      "text/plain": [
       "<matplotlib.figure.Figure at 0x15a03f8d0>"
      ]
     },
     "metadata": {},
     "output_type": "display_data"
    }
   ],
   "source": [
    "# feature selection by best_feature(chi2, n=i)\n",
    "rf = RandomForestClassifier(n_estimators=1000, max_depth=13, random_state=0)\n",
    "score_rf=[]\n",
    "for i in range(1,X.shape[1]):\n",
    "    X_new_rf = SelectKBest(chi2, k=i).fit_transform(X, y)\n",
    "    score_rf.append(np.mean(sklearn.cross_validation.cross_val_score(rf, X_new_rf,y,cv=4)))\n",
    "    print i, score_rf[-1]\n",
    "\n",
    "f_count_best_rf = np.array(score_rf).argmax()+1\n",
    "X_new_rf = SelectKBest(chi2, k=f_count_best_rf).fit_transform(X, y)\n",
    "print score_rf\n",
    "print 'max score = %.4f, when use %d features' % ( np.array(score_rf).max(), f_count_best_rf)\n",
    "plt.plot(score_rf)"
   ]
  },
  {
   "cell_type": "code",
   "execution_count": 563,
   "metadata": {
    "collapsed": false
   },
   "outputs": [
    {
     "name": "stdout",
     "output_type": "stream",
     "text": [
      "Index([u'DISTRICT', u'tribe', u'REGION_PROVINCE', u'babydoc', u'foodinsecurity', u'religion_Buddhist', u'india', u'hindu', u'religion_Hindu', u'religion_Russian/Easter', u'educ', u'Debut', u'literacy', u'christian', u'hivknow', u'ModCon', u'age', u'thrasher', u'usecondom', u'religion_Other Christia', u'religion_Muslim', u'muslim', u'lowlit', u'multpart', u'motorcycle', u'CHILDREN', u'LaborDeliv', u'furniture', u'married', u'urbanicity', u'generator', u'cart', u'EVER_BEEN_PREGNANT', u'EVER_HAD_SEX', u'inschool', u'religion_Roman Catholic', u'cooker', u'radio', u'irrigation', u'highlit', u'religion_Evangelical/Bo', u'religion_Traditional/An', u'fridge', u'urban', u'other', u'religion_Other', u'ownincome', u'rural', u'electricity', u'cellphone', u'computer', u'car', u'religion_nan', u'religion_Jewish', u'single'], dtype='object')\n",
      "(55,)\n"
     ]
    }
   ],
   "source": [
    "bestK = SelectKBest(chi2, k=55).fit(X, y)\n",
    "bestK_ind = np.argsort(np.nan_to_num(bestK.scores_))[::-1]\n",
    "bestK_name = X.columns[bestK_ind]\n",
    "print bestK_name\n",
    "print bestK_name.shape"
   ]
  },
  {
   "cell_type": "code",
   "execution_count": 18,
   "metadata": {
    "collapsed": false
   },
   "outputs": [],
   "source": [
    "bestK = SelectKBest(chi2, k=55).fit(X, y)\n",
    "bestK_ind = np.argsort(np.nan_to_num(bestK.scores_))[::-1]\n",
    "bestK_name = X.columns[bestK_ind]\n",
    "\n",
    "X27 = X[bestK_name[:27]]\n",
    "X30 = X[bestK_name[:30]]\n",
    "X34 = X[bestK_name[:34]]"
   ]
  },
  {
   "cell_type": "code",
   "execution_count": 573,
   "metadata": {
    "collapsed": false
   },
   "outputs": [
    {
     "name": "stdout",
     "output_type": "stream",
     "text": [
      "0.851802866088\n",
      "0.848417208309\n",
      "0.845559181867\n"
     ]
    }
   ],
   "source": [
    "rf = RandomForestClassifier(n_estimators=1000, max_depth=13, random_state=0)\n",
    "print sklearn.cross_validation.cross_val_score(rf, X27,y,cv=4).mean()\n",
    "print sklearn.cross_validation.cross_val_score(rf, X30,y,cv=4).mean()\n",
    "print sklearn.cross_validation.cross_val_score(rf, X34,y,cv=4).mean()"
   ]
  },
  {
   "cell_type": "code",
   "execution_count": 575,
   "metadata": {
    "collapsed": false
   },
   "outputs": [
    {
     "name": "stdout",
     "output_type": "stream",
     "text": [
      "(25,)\n",
      "0.855638374435\n"
     ]
    }
   ],
   "source": [
    "rf = RandomForestClassifier(n_estimators=1000, max_depth=13, random_state=0)\n",
    "rf.fit(X,y)\n",
    "feature_cut=0.011\n",
    "selected_features = X.columns[rf.feature_importances_>feature_cut]\n",
    "print selected_features.shape\n",
    "print sklearn.cross_validation.cross_val_score(rf, X[selected_features],y,cv=4).mean()"
   ]
  },
  {
   "cell_type": "code",
   "execution_count": 598,
   "metadata": {
    "collapsed": false
   },
   "outputs": [
    {
     "name": "stdout",
     "output_type": "stream",
     "text": [
      "(5283, 16)\n",
      "0.855408594075\n"
     ]
    }
   ],
   "source": [
    "rf = RandomForestClassifier(n_estimators=1000, max_depth=13, random_state=0)\n",
    "rf.fit(X30,y)\n",
    "feature_cut=0.017\n",
    "X_selected = X30[X30.columns[rf.feature_importances_>feature_cut]]\n",
    "print X_selected.shape\n",
    "print sklearn.cross_validation.cross_val_score(rf, X_selected,y,cv=4).mean()"
   ]
  },
  {
   "cell_type": "code",
   "execution_count": 602,
   "metadata": {
    "collapsed": false
   },
   "outputs": [],
   "source": [
    "rf2 = RandomForestClassifier(n_estimators=1000, max_depth=13, random_state=0).fit(X,y)\n",
    "rf3 = RandomForestClassifier(n_estimators=1000, max_depth=13, random_state=0).fit(X30,y)"
   ]
  },
  {
   "cell_type": "code",
   "execution_count": 603,
   "metadata": {
    "collapsed": false
   },
   "outputs": [],
   "source": [
    "selection1 = bestK_name[:27]\n",
    "selection2 = X.columns[rf2.feature_importances_>0.011]\n",
    "selection3 = X30.columns[rf3.feature_importances_>0.017]"
   ]
  },
  {
   "cell_type": "code",
   "execution_count": 604,
   "metadata": {
    "collapsed": false
   },
   "outputs": [
    {
     "name": "stdout",
     "output_type": "stream",
     "text": [
      "\n",
      "best columns by BestK, n_col=27:\n",
      "Index([u'DISTRICT', u'tribe', u'REGION_PROVINCE', u'babydoc', u'foodinsecurity', u'religion_Buddhist', u'india', u'hindu', u'religion_Hindu', u'religion_Russian/Easter', u'educ', u'Debut', u'literacy', u'christian', u'hivknow', u'ModCon', u'age', u'thrasher', u'usecondom', u'religion_Other Christia', u'religion_Muslim', u'muslim', u'lowlit', u'multpart', u'motorcycle', u'CHILDREN', u'LaborDeliv'], dtype='object')\n",
      "\n",
      "best columns by feature_importances_, n_col=25:\n",
      "Index([u'christian', u'hindu', u'REGION_PROVINCE', u'DISTRICT', u'electricity', u'age', u'tribe', u'foodinsecurity', u'EVER_HAD_SEX', u'EVER_BEEN_PREGNANT', u'CHILDREN', u'india', u'married', u'multpart', u'educ', u'literacy', u'LaborDeliv', u'babydoc', u'Debut', u'ModCon', u'usecondom', u'hivknow', u'religion_Buddhist', u'religion_Hindu', u'religion_Russian/Easter'], dtype='object')\n",
      "\n",
      "best columns by first Best30 then feature_importances_, n_col=16:\n",
      "Index([u'DISTRICT', u'tribe', u'REGION_PROVINCE', u'babydoc', u'india', u'educ', u'Debut', u'literacy', u'hivknow', u'ModCon', u'age', u'usecondom', u'multpart', u'CHILDREN', u'LaborDeliv', u'married'], dtype='object')\n"
     ]
    }
   ],
   "source": [
    "print \"\\nbest columns by BestK, n_col=27:\\n\", selection1\n",
    "print \"\\nbest columns by feature_importances_, n_col=25:\\n\", selection2\n",
    "print \"\\nbest columns by first Best30 then feature_importances_, n_col=16:\\n\", selection3"
   ]
  },
  {
   "cell_type": "code",
   "execution_count": 607,
   "metadata": {
    "collapsed": false
   },
   "outputs": [
    {
     "name": "stdout",
     "output_type": "stream",
     "text": [
      "31\n"
     ]
    }
   ],
   "source": [
    "all_selection = set(list(selection1)+list(selection2)+list(selection3))\n",
    "print len(all_selection)\n",
    "D={}\n",
    "for c in all_selection:\n",
    "    key = (c in selection1, c in selection2, c in selection3)\n",
    "    colection = D.get(key,[])\n",
    "    D[key] = colection+[c]"
   ]
  },
  {
   "cell_type": "code",
   "execution_count": 608,
   "metadata": {
    "collapsed": false
   },
   "outputs": [
    {
     "data": {
      "text/plain": [
       "{(False, True, False): ['electricity', 'EVER_HAD_SEX', 'EVER_BEEN_PREGNANT'],\n",
       " (False, True, True): ['married'],\n",
       " (True, False, False): ['religion_Other Christia',\n",
       "  'religion_Muslim',\n",
       "  'muslim',\n",
       "  'lowlit',\n",
       "  'thrasher',\n",
       "  'motorcycle'],\n",
       " (True, True, False): ['foodinsecurity',\n",
       "  'religion_Buddhist',\n",
       "  'religion_Russian/Easter',\n",
       "  'hindu',\n",
       "  'christian',\n",
       "  'religion_Hindu'],\n",
       " (True, True, True): ['tribe',\n",
       "  'india',\n",
       "  'multpart',\n",
       "  'babydoc',\n",
       "  'ModCon',\n",
       "  'usecondom',\n",
       "  'Debut',\n",
       "  'LaborDeliv',\n",
       "  'hivknow',\n",
       "  'REGION_PROVINCE',\n",
       "  'educ',\n",
       "  'CHILDREN',\n",
       "  'literacy',\n",
       "  'DISTRICT',\n",
       "  'age']}"
      ]
     },
     "execution_count": 608,
     "metadata": {},
     "output_type": "execute_result"
    }
   ],
   "source": [
    "D"
   ]
  },
  {
   "cell_type": "code",
   "execution_count": 610,
   "metadata": {
    "collapsed": false
   },
   "outputs": [
    {
     "name": "stdout",
     "output_type": "stream",
     "text": [
      "(5283, 68)\n",
      "0.864127679723\n"
     ]
    }
   ],
   "source": [
    "slection_combined = list(selection1)+list(selection2)+list(selection3)\n",
    "rf = RandomForestClassifier(n_estimators=1000, max_depth=13, random_state=0)\n",
    "X_selected = X[slection_combined]\n",
    "print X_selected.shape\n",
    "print sklearn.cross_validation.cross_val_score(rf, X_selected,y,cv=4).mean()"
   ]
  },
  {
   "cell_type": "code",
   "execution_count": 628,
   "metadata": {
    "collapsed": false
   },
   "outputs": [
    {
     "name": "stdout",
     "output_type": "stream",
     "text": [
      "(5283, 68)\n",
      "0.0 68 0.864127679723\n",
      "0.001 68 0.864127679723\n",
      "0.002 65 0.863967117549\n",
      "0.003 59 0.861875148996\n",
      "0.004 52 0.862236296222\n",
      "0.005 49 0.860713278536\n",
      "0.006 49 0.860713278536\n",
      "0.007 49 0.860713278536\n",
      "0.008 37 0.839094833193\n",
      "0.009 34 0.824521080624\n",
      "0.01 34 0.824521080624\n",
      "0.011 31 0.824526259549\n",
      "0.012 21 0.778759262985\n",
      "0.013 21 0.778759262985\n",
      "0.014 21 0.778759262985\n",
      "0.015 21 0.778759262985\n",
      "0.016 19 0.76868398316\n",
      "0.017 19 0.76868398316\n",
      "0.018 19 0.76868398316\n",
      "0.019 19 0.76868398316\n",
      "0.02 19 0.76868398316\n",
      "[0.86412767972276017, 0.86412767972276017, 0.86396711754884314, 0.86187514899569029, 0.86223629622168729, 0.86071327853580459, 0.86071327853580459, 0.86071327853580459, 0.83909483319322042, 0.82452108062382767, 0.82452108062382767, 0.8245262595493984, 0.778759262984696, 0.778759262984696, 0.778759262984696, 0.778759262984696, 0.76868398316023623, 0.76868398316023623, 0.76868398316023623, 0.76868398316023623, 0.76868398316023623]\n"
     ]
    },
    {
     "data": {
      "image/png": "[encoded data removed]",
      "text/plain": [
       "<matplotlib.figure.Figure at 0x135dbc810>"
      ]
     },
     "metadata": {},
     "output_type": "display_data"
    }
   ],
   "source": [
    "slection_combined = list(selection1)+list(selection2)+list(selection3)\n",
    "rf = RandomForestClassifier(n_estimators=1000, max_depth=13, random_state=0)\n",
    "X_selected_combined = X[slection_combined]\n",
    "rf.fit(X_selected_combined,y)\n",
    "print X_selected_combined.shape\n",
    "plt.plot(rf.feature_importances_)\n",
    "\n",
    "score_new = []\n",
    "rf1 = RandomForestClassifier(n_estimators=1000, max_depth=13, random_state=0)\n",
    "for feature_cut in np.linspace(0.000,0.020,21):\n",
    "    X_selected = X_selected_combined.ix[:,rf.feature_importances_>=feature_cut]\n",
    "    score_new.append(sklearn.cross_validation.cross_val_score(rf1, X_selected,y,cv=4).mean())\n",
    "    print feature_cut, X_selected.shape[1], score_new[-1]\n",
    "    # rf1.fit(X_selected,y)\n",
    "    # plt.plot(rf1.feature_importances_)\n",
    "print score_new"
   ]
  },
  {
   "cell_type": "code",
   "execution_count": 629,
   "metadata": {
    "collapsed": false
   },
   "outputs": [
    {
     "data": {
      "text/plain": [
       "[<matplotlib.lines.Line2D at 0x10e542dd0>]"
      ]
     },
     "execution_count": 629,
     "metadata": {},
     "output_type": "execute_result"
    },
    {
     "data": {
      "image/png": "[encoded data removed]",
      "text/plain": [
       "<matplotlib.figure.Figure at 0x15b4f7fd0>"
      ]
     },
     "metadata": {},
     "output_type": "display_data"
    }
   ],
   "source": [
    "plt.plot(np.linspace(0.000,0.020,21),score_new)"
   ]
  },
  {
   "cell_type": "code",
   "execution_count": 634,
   "metadata": {
    "collapsed": false
   },
   "outputs": [
    {
     "data": {
      "text/plain": [
       "[('DISTRICT', 'DISTRICT0'),\n",
       " ('tribe', 'tribe1'),\n",
       " ('REGION_PROVINCE', 'REGION_PROVINCE2'),\n",
       " ('babydoc', 'babydoc3'),\n",
       " ('foodinsecurity', 'foodinsecurity4'),\n",
       " ('religion_Buddhist', 'religion_Buddhist5'),\n",
       " ('india', 'india6'),\n",
       " ('hindu', 'hindu7'),\n",
       " ('religion_Hindu', 'religion_Hindu8'),\n",
       " ('religion_Russian/Easter', 'religion_Russian/Easter9'),\n",
       " ('educ', 'educ10'),\n",
       " ('Debut', 'Debut11'),\n",
       " ('literacy', 'literacy12'),\n",
       " ('christian', 'christian13'),\n",
       " ('hivknow', 'hivknow14'),\n",
       " ('ModCon', 'ModCon15'),\n",
       " ('age', 'age16'),\n",
       " ('thrasher', 'thrasher17'),\n",
       " ('usecondom', 'usecondom18'),\n",
       " ('religion_Other Christia', 'religion_Other Christia19'),\n",
       " ('religion_Muslim', 'religion_Muslim20'),\n",
       " ('muslim', 'muslim21'),\n",
       " ('lowlit', 'lowlit22'),\n",
       " ('multpart', 'multpart23'),\n",
       " ('motorcycle', 'motorcycle24'),\n",
       " ('CHILDREN', 'CHILDREN25'),\n",
       " ('LaborDeliv', 'LaborDeliv26'),\n",
       " ('christian', 'christian27'),\n",
       " ('hindu', 'hindu28'),\n",
       " ('REGION_PROVINCE', 'REGION_PROVINCE29'),\n",
       " ('DISTRICT', 'DISTRICT30'),\n",
       " ('electricity', 'electricity31'),\n",
       " ('age', 'age32'),\n",
       " ('tribe', 'tribe33'),\n",
       " ('foodinsecurity', 'foodinsecurity34'),\n",
       " ('EVER_HAD_SEX', 'EVER_HAD_SEX35'),\n",
       " ('EVER_BEEN_PREGNANT', 'EVER_BEEN_PREGNANT36'),\n",
       " ('CHILDREN', 'CHILDREN37'),\n",
       " ('india', 'india38'),\n",
       " ('married', 'married39'),\n",
       " ('multpart', 'multpart40'),\n",
       " ('educ', 'educ41'),\n",
       " ('literacy', 'literacy42'),\n",
       " ('LaborDeliv', 'LaborDeliv43'),\n",
       " ('babydoc', 'babydoc44'),\n",
       " ('Debut', 'Debut45'),\n",
       " ('ModCon', 'ModCon46'),\n",
       " ('usecondom', 'usecondom47'),\n",
       " ('hivknow', 'hivknow48'),\n",
       " ('religion_Buddhist', 'religion_Buddhist49'),\n",
       " ('religion_Hindu', 'religion_Hindu50'),\n",
       " ('religion_Russian/Easter', 'religion_Russian/Easter51'),\n",
       " ('DISTRICT', 'DISTRICT52'),\n",
       " ('tribe', 'tribe53'),\n",
       " ('REGION_PROVINCE', 'REGION_PROVINCE54'),\n",
       " ('babydoc', 'babydoc55'),\n",
       " ('india', 'india56'),\n",
       " ('educ', 'educ57'),\n",
       " ('Debut', 'Debut58'),\n",
       " ('literacy', 'literacy59'),\n",
       " ('hivknow', 'hivknow60'),\n",
       " ('ModCon', 'ModCon61'),\n",
       " ('age', 'age62'),\n",
       " ('usecondom', 'usecondom63'),\n",
       " ('multpart', 'multpart64'),\n",
       " ('CHILDREN', 'CHILDREN65'),\n",
       " ('LaborDeliv', 'LaborDeliv66'),\n",
       " ('married', 'married67')]"
      ]
     },
     "execution_count": 634,
     "metadata": {},
     "output_type": "execute_result"
    }
   ],
   "source": [
    "selection_combined = list(selection1)+list(selection2)+list(selection3)\n",
    "selection_combined_i = [selection_combined[i]+str(i) for i in range(len(selection_combined))]\n",
    "zip(selection_combined, selection_combined_i)"
   ]
  },
  {
   "cell_type": "code",
   "execution_count": 635,
   "metadata": {
    "collapsed": false
   },
   "outputs": [
    {
     "data": {
      "text/plain": [
       "['DISTRICT0',\n",
       " 'tribe1',\n",
       " 'REGION_PROVINCE2',\n",
       " 'babydoc3',\n",
       " 'foodinsecurity4',\n",
       " 'religion_Buddhist5',\n",
       " 'india6',\n",
       " 'hindu7',\n",
       " 'religion_Hindu8',\n",
       " 'religion_Russian/Easter9',\n",
       " 'educ10',\n",
       " 'Debut11',\n",
       " 'literacy12',\n",
       " 'christian13',\n",
       " 'hivknow14',\n",
       " 'ModCon15',\n",
       " 'age16',\n",
       " 'thrasher17',\n",
       " 'usecondom18',\n",
       " 'religion_Other Christia19',\n",
       " 'religion_Muslim20',\n",
       " 'muslim21',\n",
       " 'lowlit22',\n",
       " 'multpart23',\n",
       " 'motorcycle24',\n",
       " 'CHILDREN25',\n",
       " 'LaborDeliv26',\n",
       " 'christian27',\n",
       " 'hindu28',\n",
       " 'REGION_PROVINCE29',\n",
       " 'DISTRICT30',\n",
       " 'electricity31',\n",
       " 'age32',\n",
       " 'tribe33',\n",
       " 'foodinsecurity34',\n",
       " 'EVER_HAD_SEX35',\n",
       " 'EVER_BEEN_PREGNANT36',\n",
       " 'CHILDREN37',\n",
       " 'india38',\n",
       " 'married39',\n",
       " 'multpart40',\n",
       " 'educ41',\n",
       " 'literacy42',\n",
       " 'LaborDeliv43',\n",
       " 'babydoc44',\n",
       " 'Debut45',\n",
       " 'ModCon46',\n",
       " 'usecondom47',\n",
       " 'hivknow48',\n",
       " 'religion_Buddhist49',\n",
       " 'religion_Hindu50',\n",
       " 'religion_Russian/Easter51',\n",
       " 'DISTRICT52',\n",
       " 'tribe53',\n",
       " 'REGION_PROVINCE54',\n",
       " 'babydoc55',\n",
       " 'india56',\n",
       " 'educ57',\n",
       " 'Debut58',\n",
       " 'literacy59',\n",
       " 'hivknow60',\n",
       " 'ModCon61',\n",
       " 'age62',\n",
       " 'usecondom63',\n",
       " 'multpart64',\n",
       " 'CHILDREN65',\n",
       " 'LaborDeliv66',\n",
       " 'married67']"
      ]
     },
     "execution_count": 635,
     "metadata": {},
     "output_type": "execute_result"
    }
   ],
   "source": [
    "selection_combined_i"
   ]
  },
  {
   "cell_type": "code",
   "execution_count": 638,
   "metadata": {
    "collapsed": false
   },
   "outputs": [
    {
     "name": "stdout",
     "output_type": "stream",
     "text": [
      "['DISTRICT', 'tribe', 'REGION_PROVINCE', 'babydoc', 'foodinsecurity', 'religion_Buddhist', 'india', 'hindu', 'religion_Hindu', 'religion_Russian/Easter', 'educ', 'Debut', 'literacy', 'christian', 'hivknow', 'ModCon', 'age', 'thrasher', 'usecondom', 'religion_Other Christia', 'religion_Muslim', 'muslim', 'lowlit', 'multpart', 'motorcycle', 'CHILDREN', 'LaborDeliv']\n",
      "['christian', 'hindu', 'REGION_PROVINCE', 'DISTRICT', 'electricity', 'age', 'tribe', 'foodinsecurity', 'EVER_HAD_SEX', 'EVER_BEEN_PREGNANT', 'CHILDREN', 'india', 'married', 'multpart', 'educ', 'literacy', 'LaborDeliv', 'babydoc', 'Debut', 'ModCon', 'usecondom', 'hivknow', 'religion_Buddhist', 'religion_Hindu', 'religion_Russian/Easter']\n",
      "['DISTRICT', 'tribe', 'REGION_PROVINCE', 'babydoc', 'india', 'educ', 'Debut', 'literacy', 'hivknow', 'ModCon', 'age', 'usecondom', 'multpart', 'CHILDREN', 'LaborDeliv', 'married']\n"
     ]
    }
   ],
   "source": [
    "print list(selection1)\n",
    "print list(selection2)\n",
    "print list(selection3)"
   ]
  },
  {
   "cell_type": "code",
   "execution_count": 641,
   "metadata": {
    "collapsed": false
   },
   "outputs": [
    {
     "name": "stdout",
     "output_type": "stream",
     "text": [
      "['DISTRICT0', 'tribe1', 'REGION_PROVINCE2', 'babydoc3', 'foodinsecurity4', 'religion_Buddhist5', 'india6', 'hindu7', 'religion_Hindu8', 'religion_Russian/Easter9', 'educ10', 'Debut11', 'literacy12', 'christian13', 'hivknow14', 'ModCon15', 'age16', 'thrasher17', 'usecondom18', 'religion_Other Christia19', 'religion_Muslim20', 'muslim21', 'lowlit22', 'multpart23', 'motorcycle24', 'CHILDREN25', 'LaborDeliv26']\n",
      "['christian27', 'hindu28', 'REGION_PROVINCE29', 'DISTRICT30', 'electricity31', 'age32', 'tribe33', 'foodinsecurity34', 'EVER_HAD_SEX35', 'EVER_BEEN_PREGNANT36', 'CHILDREN37', 'india38', 'married39', 'multpart40', 'educ41', 'literacy42', 'LaborDeliv43', 'babydoc44', 'Debut45', 'ModCon46', 'usecondom47', 'hivknow48', 'religion_Buddhist49', 'religion_Hindu50', 'religion_Russian/Easter51']\n",
      "['DISTRICT52', 'tribe53', 'REGION_PROVINCE54', 'babydoc55', 'india56', 'educ57', 'Debut58', 'literacy59', 'hivknow60', 'ModCon61', 'age62', 'usecondom63', 'multpart64', 'CHILDREN65', 'LaborDeliv66', 'married67']\n"
     ]
    }
   ],
   "source": [
    "print [list(selection1)[i]+str(i) for i in range(len(selection1))]\n",
    "print [list(selection2)[i]+str(len(selection1)+i) for i in range(len(selection2))]\n",
    "print [list(selection3)[i]+str(len(selection1)+len(selection2)+i) for i in range(len(selection3))]"
   ]
  },
  {
   "cell_type": "code",
   "execution_count": 648,
   "metadata": {
    "collapsed": false
   },
   "outputs": [
    {
     "name": "stdout",
     "output_type": "stream",
     "text": [
      "62\n",
      "['DISTRICT', 'tribe', 'REGION_PROVINCE', 'babydoc', 'foodinsecurity', 'india', 'hindu', 'educ', 'Debut', 'literacy', 'christian', 'hivknow', 'ModCon', 'age', 'thrasher', 'usecondom', 'muslim', 'lowlit', 'multpart', 'motorcycle', 'CHILDREN', 'LaborDeliv', 'christian', 'hindu', 'REGION_PROVINCE', 'DISTRICT', 'electricity', 'age', 'tribe', 'foodinsecurity', 'EVER_HAD_SEX', 'EVER_BEEN_PREGNANT', 'CHILDREN', 'india', 'married', 'multpart', 'educ', 'literacy', 'LaborDeliv', 'babydoc', 'Debut', 'ModCon', 'usecondom', 'hivknow', 'DISTRICT', 'tribe', 'REGION_PROVINCE', 'babydoc', 'india', 'educ', 'Debut', 'literacy', 'hivknow', 'ModCon', 'age', 'usecondom', 'multpart', 'CHILDREN', 'LaborDeliv', 'married', 'religion', 'religion']\n",
      "['DISTRICT0', 'tribe1', 'REGION_PROVINCE2', 'babydoc3', 'foodinsecurity4', 'india5', 'hindu6', 'educ7', 'Debut8', 'literacy9', 'christian10', 'hivknow11', 'ModCon12', 'age13', 'thrasher14', 'usecondom15', 'muslim16', 'lowlit17', 'multpart18', 'motorcycle19', 'CHILDREN20', 'LaborDeliv21', 'christian22', 'hindu23', 'REGION_PROVINCE24', 'DISTRICT25', 'electricity26', 'age27', 'tribe28', 'foodinsecurity29', 'EVER_HAD_SEX30', 'EVER_BEEN_PREGNANT31', 'CHILDREN32', 'india33', 'married34', 'multpart35', 'educ36', 'literacy37', 'LaborDeliv38', 'babydoc39', 'Debut40', 'ModCon41', 'usecondom42', 'hivknow43', 'DISTRICT44', 'tribe45', 'REGION_PROVINCE46', 'babydoc47', 'india48', 'educ49', 'Debut50', 'literacy51', 'hivknow52', 'ModCon53', 'age54', 'usecondom55', 'multpart56', 'CHILDREN57', 'LaborDeliv58', 'married59', 'religion60', 'religion61']\n"
     ]
    }
   ],
   "source": [
    "# used for R df column selection\n",
    "selection_combined_religon = [c for c in selection_combined if c[:8]!='religion'] + ['religion','religion']\n",
    "print len(selection_combined_religon)\n",
    "print selection_combined_religon\n",
    "selection_combined_religon_i = [selection_combined_religon[i]+str(i) for i in range(len(selection_combined_religon))]\n",
    "print selection_combined_religon_i"
   ]
  },
  {
   "cell_type": "markdown",
   "metadata": {},
   "source": [
    "### consider subgroup of y labels"
   ]
  },
  {
   "cell_type": "code",
   "execution_count": 649,
   "metadata": {
    "collapsed": false
   },
   "outputs": [
    {
     "name": "stdout",
     "output_type": "stream",
     "text": [
      "(5283, 68)\n",
      "0.864127679723\n"
     ]
    }
   ],
   "source": [
    "slection_combined = list(selection1)+list(selection2)+list(selection3)\n",
    "selection_combined_i = [selection_combined[i]+str(i) for i in range(len(selection_combined))]\n",
    "rf = RandomForestClassifier(n_estimators=1000, max_depth=13, random_state=0)\n",
    "X_selected = X[slection_combined]\n",
    "X_selected.columns=selection_combined_i\n",
    "print X_selected.shape\n",
    "print sklearn.cross_validation.cross_val_score(rf, X_selected,y,cv=4).mean()"
   ]
  },
  {
   "cell_type": "code",
   "execution_count": 652,
   "metadata": {
    "collapsed": false
   },
   "outputs": [],
   "source": [
    "X68_train,X68_valid,y68_train,y68_valid = sklearn.cross_validation.train_test_split(X_selected,y,test_size=0.25, random_state=42)"
   ]
  },
  {
   "cell_type": "code",
   "execution_count": 657,
   "metadata": {
    "collapsed": false
   },
   "outputs": [],
   "source": [
    "rf.fit(X68_train,y68_train)\n",
    "y68_pred = rf.predict(X68_valid)"
   ]
  },
  {
   "cell_type": "code",
   "execution_count": 655,
   "metadata": {
    "collapsed": false
   },
   "outputs": [
    {
     "data": {
      "text/plain": [
       "0.85995457986373958"
      ]
     },
     "execution_count": 655,
     "metadata": {},
     "output_type": "execute_result"
    }
   ],
   "source": [
    "sklearn.metrics.accuracy_score(y68_valid,y68_pred)"
   ]
  },
  {
   "cell_type": "code",
   "execution_count": 684,
   "metadata": {
    "collapsed": false
   },
   "outputs": [
    {
     "name": "stdout",
     "output_type": "stream",
     "text": [
      "[111, 121, 122, 211, 212, 221, 222, 231, 241, 311, 312, 321, 322, 411, 412]\n"
     ]
    }
   ],
   "source": [
    "conf_mat = sklearn.metrics.confusion_matrix(y68_valid, y68_pred,labels=sorted(y.unique()))\n",
    "recall_mat = (1.0*conf_mat/conf_mat.sum(axis=1))"
   ]
  },
  {
   "cell_type": "code",
   "execution_count": 716,
   "metadata": {
    "collapsed": false
   },
   "outputs": [
    {
     "name": "stdout",
     "output_type": "stream",
     "text": [
      "[[168   0   0   0   0   0   0   0   0]\n",
      " [  0 158   0   0   0   0   0   0   0]\n",
      " [  0   0 143   0   0   0   0   0   0]\n",
      " [  0   0   0  88   0   0   0   0   0]\n",
      " [  0   0   0   0 166   0   0   0   0]\n",
      " [  0   0   0   0   0 133   0   0   0]\n",
      " [  0   0   0   0   0   0 161   0   0]\n",
      " [  0   0   0   0   0   0   0 150   0]\n",
      " [  0   0   0   0   0   0   0   0 154]]\n"
     ]
    }
   ],
   "source": [
    "y68_valid_geo = y68_valid/100\n",
    "y68_pred_geo = y68_pred/100\n",
    "print sklearn.metrics.confusion_matrix(y68_valid_geo, y68_pred_geo)"
   ]
  },
  {
   "cell_type": "code",
   "execution_count": 754,
   "metadata": {
    "collapsed": false
   },
   "outputs": [
    {
     "name": "stdout",
     "output_type": "stream",
     "text": [
      "\n",
      "geo =  1\n",
      "[[60  0  0]\n",
      " [ 0 96  1]\n",
      " [ 0 11  0]]\n",
      "\n",
      "geo =  2\n",
      "[[23  0  8  0  9  0]\n",
      " [ 2  6  0  1  1  5]\n",
      " [ 2  0 29  0  2  0]\n",
      " [ 0  1  0  2  0  4]\n",
      " [ 3  0  3  1 39  1]\n",
      " [ 0  0  1  2  1 12]]\n",
      "\n",
      "geo =  3\n",
      "[[75  0  2  0]\n",
      " [ 0 36  0  0]\n",
      " [ 1  0 15  0]\n",
      " [ 0  1  2 11]]\n",
      "\n",
      "geo =  4\n",
      "[[73  2]\n",
      " [ 2 11]]\n",
      "\n",
      "geo =  5\n",
      "[[12  3  0  4  1]\n",
      " [ 1 16  5  1  0]\n",
      " [ 0  7 27  3  5]\n",
      " [ 0  0  3 30 11]\n",
      " [ 0  0 12  5 20]]\n",
      "\n",
      "geo =  6\n",
      "[[38  1  0]\n",
      " [ 3 19  0]\n",
      " [ 2  0 70]]\n",
      "\n",
      "geo =  7\n",
      "[[16  3  1  0  0]\n",
      " [ 3 19  5  0  3]\n",
      " [ 0  6 33  1  0]\n",
      " [ 0  1  0 21  0]\n",
      " [ 0  1  1  0 47]]\n",
      "\n",
      "geo =  8\n",
      "[[26  5  0  1]\n",
      " [ 1 55  1  0]\n",
      " [ 1  0 39  1]\n",
      " [ 0  1  1 18]]\n",
      "\n",
      "geo =  9\n",
      "[[12  0  1  3  0]\n",
      " [ 0  2  0  4  0]\n",
      " [ 0  1 61  0  0]\n",
      " [ 3  0  0 57  0]\n",
      " [ 0  0  0  0 10]]\n"
     ]
    }
   ],
   "source": [
    "geos=list(set([int(yy/100) for yy in y]))\n",
    "for geo in geos:\n",
    "    y68_valid_geo_i = y68_valid[y68_valid_geo==geo]\n",
    "    y68_pred_geo_i = y68_pred[y68_pred_geo==geo]\n",
    "    print \"\\ngeo = \", geo\n",
    "    print sklearn.metrics.confusion_matrix(y68_valid_geo_i, y68_pred_geo_i)"
   ]
  },
  {
   "cell_type": "code",
   "execution_count": 12,
   "metadata": {
    "collapsed": false
   },
   "outputs": [],
   "source": [
    "def split_by_geo(X,y):\n",
    "    geos = range(1,10)\n",
    "    X_res, y_res = {}, {}\n",
    "    for geo in geos:\n",
    "        X_res[geo] = X[y/100==geo,:]\n",
    "        y_res[geo] = y[y/100==geo]\n",
    "    return X_res, y_res"
   ]
  },
  {
   "cell_type": "code",
   "execution_count": 823,
   "metadata": {
    "collapsed": false
   },
   "outputs": [
    {
     "data": {
      "text/plain": [
       "numpy.ndarray"
      ]
     },
     "execution_count": 823,
     "metadata": {},
     "output_type": "execute_result"
    }
   ],
   "source": [
    "type(y.values)"
   ]
  },
  {
   "cell_type": "code",
   "execution_count": 829,
   "metadata": {
    "collapsed": false
   },
   "outputs": [],
   "source": [
    "X_train_geo_split, y_train_geo_split = split_by_geo(X68_train,y68_train)\n",
    "X_valid_geo_split, y_valid_geo_split = split_by_geo(X68_valid,y68_valid)\n",
    "X_selected\n",
    "X_selected_geo_split, y_selected_geo_split = split_by_geo(X_selected.values,y.values)\n"
   ]
  },
  {
   "cell_type": "code",
   "execution_count": 13,
   "metadata": {
    "collapsed": true
   },
   "outputs": [],
   "source": [
    "X_geo_split, y_geo_split = split_by_geo(X.values,y.values)"
   ]
  },
  {
   "cell_type": "code",
   "execution_count": 826,
   "metadata": {
    "collapsed": false
   },
   "outputs": [
    {
     "name": "stdout",
     "output_type": "stream",
     "text": [
      "1 446 168 614\n",
      "2 465 158 623\n",
      "3 460 143 603\n",
      "4 300 88 388\n",
      "5 459 166 625\n",
      "6 468 133 601\n",
      "7 450 161 611\n",
      "8 467 150 617\n",
      "9 447 154 601\n"
     ]
    }
   ],
   "source": [
    "for i in range(1,10):\n",
    "    print i,X_train_geo_split[i].shape[0],X_valid_geo_split[i].shape[0], X_selected_geo_split[i].shape[0]"
   ]
  },
  {
   "cell_type": "code",
   "execution_count": 827,
   "metadata": {
    "collapsed": false
   },
   "outputs": [
    {
     "name": "stdout",
     "output_type": "stream",
     "text": [
      "1 0.916928053055\n",
      "2 0.749908927262\n",
      "3 0.97509758036\n",
      "4 0.966465806683\n",
      "5 0.61713235723\n",
      "6 0.960143191549\n",
      "7 0.809981910847\n",
      "8 0.917455432937\n",
      "9 0.921823924201\n"
     ]
    }
   ],
   "source": [
    "# use selected features\n",
    "rf = RandomForestClassifier(n_estimators=1000, max_depth=13, random_state=0)\n",
    "for i in range(1,10):\n",
    "    print i, sklearn.cross_validation.cross_val_score(rf, X_selected_geo_split[i],y_selected_geo_split[i],cv=4).mean()"
   ]
  },
  {
   "cell_type": "code",
   "execution_count": 831,
   "metadata": {
    "collapsed": false
   },
   "outputs": [
    {
     "name": "stdout",
     "output_type": "stream",
     "text": [
      "1 0.916991996804\n",
      "2 0.741936675492\n",
      "3 0.965184858118\n",
      "4 0.920205550004\n",
      "5 0.623758836101\n",
      "6 0.955154229077\n",
      "7 0.795531119169\n",
      "8 0.893134550085\n",
      "9 0.876927885248\n"
     ]
    }
   ],
   "source": [
    "# use all original features\n",
    "rf = RandomForestClassifier(n_estimators=1000, max_depth=13, random_state=0)\n",
    "for i in range(1,10):\n",
    "    print i, sklearn.cross_validation.cross_val_score(rf, X_geo_split[i],y_geo_split[i],cv=4).mean()"
   ]
  },
  {
   "cell_type": "code",
   "execution_count": 832,
   "metadata": {
    "collapsed": true
   },
   "outputs": [],
   "source": [
    "X_geo_5, y_geo_5 = X_geo_split[5], y_geo_split[5]"
   ]
  },
  {
   "cell_type": "markdown",
   "metadata": {},
   "source": [
    "# logistic for X_geo_5"
   ]
  },
  {
   "cell_type": "code",
   "execution_count": 837,
   "metadata": {
    "collapsed": false
   },
   "outputs": [
    {
     "name": "stdout",
     "output_type": "stream",
     "text": [
      "0.5616\n",
      "LogisticRegression(C=1, class_weight=None, dual=False, fit_intercept=True,\n",
      "          intercept_scaling=1, penalty='l1', random_state=None, tol=0.0001)\n"
     ]
    }
   ],
   "source": [
    "# logistic\n",
    "from sklearn import grid_search\n",
    "parameters = {'penalty':('l1','l2'), \n",
    "              'C':[0.1, 1, 10, 100]}\n",
    "logreg = linear_model.LogisticRegression()\n",
    "logreg_grid = grid_search.GridSearchCV(logreg, parameters, cv=5)\n",
    "logreg_grid.fit(X_geo_5, y_geo_5)\n",
    "print logreg_grid.best_score_\n",
    "print logreg_grid.best_estimator_\n"
   ]
  },
  {
   "cell_type": "markdown",
   "metadata": {},
   "source": [
    "### SVC for X_geo_5"
   ]
  },
  {
   "cell_type": "code",
   "execution_count": 838,
   "metadata": {
    "collapsed": false
   },
   "outputs": [
    {
     "name": "stdout",
     "output_type": "stream",
     "text": [
      "0.5872\n",
      "SVC(C=0.1, cache_size=200, class_weight=None, coef0=0.0, degree=3, gamma=0.0,\n",
      "  kernel='linear', max_iter=-1, probability=False, random_state=None,\n",
      "  shrinking=True, tol=0.001, verbose=False)\n"
     ]
    }
   ],
   "source": [
    "# SVC uses one-vs-one\n",
    "from sklearn import svm, grid_search\n",
    "parameters = {'kernel':('linear', 'rbf', 'sigmoid'), \n",
    "              'C':[0.1, 1, 10, 100]}\n",
    "param_grid = [\n",
    "  {'C':[0.1, 1, 10, 100], 'kernel': ['linear']},\n",
    "  {'C':[0.1, 1, 10, 100], 'gamma': [0.001, 0.0001], 'kernel': ['rbf']},\n",
    " ]\n",
    "svr = svm.SVC()\n",
    "svmclf = grid_search.GridSearchCV(svr, parameters, cv=4)\n",
    "svmclf.fit(X_geo_5, y_geo_5)\n",
    "print svmclf.best_score_\n",
    "print svmclf.best_estimator_\n"
   ]
  },
  {
   "cell_type": "markdown",
   "metadata": {},
   "source": [
    "### rf for X_geo_5"
   ]
  },
  {
   "cell_type": "code",
   "execution_count": 833,
   "metadata": {
    "collapsed": false
   },
   "outputs": [
    {
     "name": "stdout",
     "output_type": "stream",
     "text": [
      "0.6272\n",
      "{'n_estimators': 800, 'random_state': 0, 'max_depth': 12}\n",
      "131.44304204\n"
     ]
    }
   ],
   "source": [
    "# search for parameters\n",
    "start_time = time.time()\n",
    "param_grid = {'n_estimators':[800,900,1000,1100,1200],\n",
    "              'max_depth':[12,13,14,15,16,17],\n",
    "              'random_state':[0]}\n",
    "rf0 = RandomForestClassifier()\n",
    "rf_grid = grid_search.GridSearchCV(rf0, param_grid, cv=4)\n",
    "rf_grid.fit(X_geo_5,y_geo_5)\n",
    "print rf_grid.best_score_\n",
    "print rf_grid.best_params_\n",
    "end_time = time.time()\n",
    "print end_time-start_time"
   ]
  },
  {
   "cell_type": "code",
   "execution_count": 883,
   "metadata": {
    "collapsed": false
   },
   "outputs": [
    {
     "name": "stdout",
     "output_type": "stream",
     "text": [
      "0.6288\n",
      "{'n_estimators': 200, 'random_state': 0, 'max_depth': 8}\n",
      "116.556493998\n"
     ]
    }
   ],
   "source": [
    "# search for parameters\n",
    "start_time = time.time()\n",
    "param_grid = {'n_estimators':[100,150,200,250,300,400,1000,2000],\n",
    "              'max_depth':[1,2,4,6,8,10,15],\n",
    "              'random_state':[0]}\n",
    "rf0 = RandomForestClassifier()\n",
    "rf_grid = grid_search.GridSearchCV(rf0, param_grid, cv=4)\n",
    "rf_grid.fit(X_geo_5,y_geo_5)\n",
    "print rf_grid.best_score_\n",
    "print rf_grid.best_params_\n",
    "end_time = time.time()\n",
    "print end_time-start_time"
   ]
  },
  {
   "cell_type": "code",
   "execution_count": 846,
   "metadata": {
    "collapsed": false
   },
   "outputs": [
    {
     "name": "stdout",
     "output_type": "stream",
     "text": [
      "0.0 55 0.628597545778\n",
      "0.001 41 0.615754774013\n",
      "0.002 39 0.609467553679\n",
      "0.003 38 0.620594279139\n",
      "0.004 36 0.610833868051\n",
      "0.005 36 0.610833868051\n",
      "0.006 35 0.617265329607\n",
      "0.007 35 0.617265329607\n",
      "0.008 35 0.617265329607\n",
      "0.009 32 0.606251425178\n",
      "0.01 31 0.617440195574\n",
      "0.011 30 0.603097341613\n",
      "0.012 30 0.603097341613\n",
      "0.013 27 0.604535378872\n",
      "0.014 23 0.604443504637\n",
      "0.015 21 0.61067027093\n",
      "0.016 20 0.596337094918\n",
      "0.017 20 0.596337094918\n",
      "0.018 18 0.615632275034\n",
      "0.019 18 0.615632275034\n",
      "0.02 18 0.615632275034\n",
      "[0.62859754577802762, 0.61575477401324685, 0.60946755367947691, 0.620594279138583, 0.61083386805109963, 0.61083386805109963, 0.61726532960710179, 0.61726532960710179, 0.61726532960710179, 0.6062514251775174, 0.61744019557412777, 0.60309734161306228, 0.60309734161306228, 0.60453537887184272, 0.60444350463746144, 0.61067027092956039, 0.59633709491814846, 0.59633709491814846, 0.6156322750340717, 0.6156322750340717, 0.6156322750340717]\n"
     ]
    },
    {
     "data": {
      "image/png": "[encoded data removed]",
      "text/plain": [
       "<matplotlib.figure.Figure at 0x157a0cb90>"
      ]
     },
     "metadata": {},
     "output_type": "display_data"
    }
   ],
   "source": [
    "# Feature selection by feature_importances_\n",
    "rf = RandomForestClassifier(n_estimators=200, max_depth=8, random_state=0)\n",
    "# print i, sklearn.cross_validation.cross_val_score(rf, X_geo_split[i],y_geo_split[i],cv=4).mean()\n",
    "rf.fit(X_geo_5,y_geo_5)\n",
    "plt.plot(rf.feature_importances_)\n",
    "\n",
    "score_new = []\n",
    "rf1 = RandomForestClassifier(n_estimators=200, max_depth=8, random_state=0)\n",
    "for feature_cut in np.linspace(0.000,0.020,21):\n",
    "    X_selected = X_geo_5[:,rf.feature_importances_>=feature_cut]\n",
    "    score_new.append(sklearn.cross_validation.cross_val_score(rf1, X_selected,y_geo_5,cv=4).mean())\n",
    "    print feature_cut, X_selected.shape[1], score_new[-1]\n",
    "    # rf1.fit(X_selected,y)\n",
    "    # plt.plot(rf1.feature_importances_)\n",
    "print score_new"
   ]
  },
  {
   "cell_type": "code",
   "execution_count": 850,
   "metadata": {
    "collapsed": false
   },
   "outputs": [
    {
     "name": "stdout",
     "output_type": "stream",
     "text": [
      "0.628597545778\n"
     ]
    },
    {
     "data": {
      "text/plain": [
       "RandomForestClassifier(bootstrap=True, compute_importances=None,\n",
       "            criterion='gini', max_depth=8, max_features='auto',\n",
       "            max_leaf_nodes=None, min_density=None, min_samples_leaf=1,\n",
       "            min_samples_split=2, n_estimators=200, n_jobs=1,\n",
       "            oob_score=False, random_state=0, verbose=0)"
      ]
     },
     "execution_count": 850,
     "metadata": {},
     "output_type": "execute_result"
    }
   ],
   "source": [
    "rf = RandomForestClassifier(n_estimators=200, max_depth=8, random_state=0)\n",
    "print sklearn.cross_validation.cross_val_score(rf, X_geo_5,y_geo_5,cv=4).mean()\n",
    "rf.fit(X_geo_5,y_geo_5)"
   ]
  },
  {
   "cell_type": "code",
   "execution_count": 860,
   "metadata": {
    "collapsed": false
   },
   "outputs": [
    {
     "name": "stdout",
     "output_type": "stream",
     "text": [
      "0.01 0.606107979403\n",
      "0.015 0.609385357395\n",
      "0.02 0.606210327035\n",
      "0.08 0.609548954516\n",
      "0.09 0.628597545778\n",
      "0.1 0.628597545778\n"
     ]
    }
   ],
   "source": [
    "for cut in [0.01, 0.015, 0.02,0.08,0.09,0.1]:\n",
    "    X_try = np.concatenate((X_geo_5,X_geo_5[:,rf.feature_importances_>=cut]), axis=1)\n",
    "    print cut, sklearn.cross_validation.cross_val_score(rf, X_try,y_geo_5,cv=4).mean()"
   ]
  },
  {
   "cell_type": "code",
   "execution_count": null,
   "metadata": {
    "collapsed": true
   },
   "outputs": [],
   "source": []
  },
  {
   "cell_type": "code",
   "execution_count": 886,
   "metadata": {
    "collapsed": false
   },
   "outputs": [
    {
     "name": "stdout",
     "output_type": "stream",
     "text": [
      "0.77119632217\n"
     ]
    }
   ],
   "source": [
    "y_geo_5_seg = y_geo_5/10\n",
    "rf = RandomForestClassifier(n_estimators=200, max_depth=8, random_state=0)\n",
    "print sklearn.cross_validation.cross_val_score(rf, X_geo_5,y_geo_5_seg,cv=4).mean()"
   ]
  },
  {
   "cell_type": "code",
   "execution_count": 887,
   "metadata": {
    "collapsed": false
   },
   "outputs": [
    {
     "name": "stdout",
     "output_type": "stream",
     "text": [
      "0.7872\n",
      "{'n_estimators': 500, 'random_state': 0, 'max_depth': 12}\n",
      "144.987279892\n"
     ]
    }
   ],
   "source": [
    "# search for parameters\n",
    "start_time = time.time()\n",
    "param_grid = {'n_estimators':[100,200,500,800,1000,],\n",
    "              'max_depth':[1,2,4,6,8,10,12],\n",
    "              'random_state':[0]}\n",
    "rf0 = RandomForestClassifier()\n",
    "rf_grid = grid_search.GridSearchCV(rf0, param_grid, cv=4)\n",
    "rf_grid.fit(X_geo_5,y_geo_5_seg)\n",
    "print rf_grid.best_score_\n",
    "print rf_grid.best_params_\n",
    "end_time = time.time()\n",
    "print end_time-start_time"
   ]
  },
  {
   "cell_type": "code",
   "execution_count": 890,
   "metadata": {
    "collapsed": false
   },
   "outputs": [
    {
     "data": {
      "text/plain": [
       "array([51, 52, 53])"
      ]
     },
     "execution_count": 890,
     "metadata": {},
     "output_type": "execute_result"
    }
   ],
   "source": [
    "np.unique(y_geo_5_seg)"
   ]
  },
  {
   "cell_type": "code",
   "execution_count": 894,
   "metadata": {
    "collapsed": false
   },
   "outputs": [
    {
     "name": "stdout",
     "output_type": "stream",
     "text": [
      "(168, 55) (168,)\n",
      "0.744047619048\n",
      "{'n_estimators': 100, 'random_state': 0, 'max_depth': 8}\n",
      "44.8232941628\n"
     ]
    }
   ],
   "source": [
    "ind_geo_51 = y_geo_5_seg ==51\n",
    "X_geo_51 = X_geo_5[ind_geo_51,:]\n",
    "y_geo_51 = y_geo_5[ind_geo_51]\n",
    "print X_geo_51.shape,y_geo_51.shape\n",
    "\n",
    "# search for parameters\n",
    "start_time = time.time()\n",
    "param_grid = {'n_estimators':[100,200,500,800,1000,],\n",
    "              'max_depth':[1,2,4,6,8,10,12],\n",
    "              'random_state':[0]}\n",
    "rf0 = RandomForestClassifier()\n",
    "rf_grid = grid_search.GridSearchCV(rf0, param_grid, cv=4)\n",
    "rf_grid.fit(X_geo_51,y_geo_51)\n",
    "print rf_grid.best_score_\n",
    "print rf_grid.best_params_\n",
    "end_time = time.time()\n",
    "print end_time-start_time"
   ]
  },
  {
   "cell_type": "code",
   "execution_count": 895,
   "metadata": {
    "collapsed": false
   },
   "outputs": [
    {
     "name": "stdout",
     "output_type": "stream",
     "text": [
      "(290, 55) (290,)\n",
      "0.789655172414\n",
      "{'n_estimators': 500, 'random_state': 0, 'max_depth': 12}\n",
      "49.048530817\n"
     ]
    }
   ],
   "source": [
    "ind_geo_53 = y_geo_5_seg ==53\n",
    "X_geo_53 = X_geo_5[ind_geo_53,:]\n",
    "y_geo_53 = y_geo_5[ind_geo_53]\n",
    "print X_geo_53.shape,y_geo_53.shape\n",
    "\n",
    "# search for parameters\n",
    "start_time = time.time()\n",
    "param_grid = {'n_estimators':[100,200,500,800,1000,],\n",
    "              'max_depth':[1,2,4,6,8,10,12],\n",
    "              'random_state':[0]}\n",
    "rf0 = RandomForestClassifier()\n",
    "rf_grid = grid_search.GridSearchCV(rf0, param_grid, cv=4)\n",
    "rf_grid.fit(X_geo_53,y_geo_53)\n",
    "print rf_grid.best_score_\n",
    "print rf_grid.best_params_\n",
    "end_time = time.time()\n",
    "print end_time-start_time"
   ]
  },
  {
   "cell_type": "code",
   "execution_count": null,
   "metadata": {
    "collapsed": true
   },
   "outputs": [],
   "source": []
  },
  {
   "cell_type": "code",
   "execution_count": 912,
   "metadata": {
    "collapsed": false
   },
   "outputs": [
    {
     "name": "stdout",
     "output_type": "stream",
     "text": [
      "0.650793650794\n"
     ]
    }
   ],
   "source": [
    "# use different model for segment and subgroup\n",
    "\n",
    "X_5_train, X_5_valid, y_5_train, y_5_valid = sklearn.cross_validation.train_test_split(X_geo_5,y_geo_5, test_size=0.1, random_state=42)\n",
    "def train_geo_5(X_5_train, y_5_train):\n",
    "    X_5_train_51 = X_5_train[y_5_train/10 == 51]\n",
    "    y_5_train_51 = y_5_train[y_5_train/10 == 51]\n",
    "    X_5_train_53 = X_5_train[y_5_train/10 == 53]\n",
    "    y_5_train_53 = y_5_train[y_5_train/10 == 53]\n",
    "#     rf0 = RandomForestClassifier(   n_estimators=500, max_depth=12, random_state=0).fit(X_5_train,   y_5_train)\n",
    "    rf1_51 = RandomForestClassifier(n_estimators=100, max_depth=8,  random_state=0).fit(X_5_train_51,y_5_train_51)\n",
    "    rf1_53 = RandomForestClassifier(n_estimators=500, max_depth=12, random_state=0).fit(X_5_train_53,y_5_train_53)\n",
    "    rf0 = GradientBoostingClassifier(n_estimators=1000, learning_rate=.01,max_depth=2, random_state=0).fit(X_5_train,   y_5_train)\n",
    "#     rf1_51 = GradientBoostingClassifier(n_estimators=1000, learning_rate=.01,max_depth=2, random_state=0).fit(X_5_train_51,y_5_train_51)\n",
    "#     rf1_53 = GradientBoostingClassifier(n_estimators=1000, learning_rate=.01,max_depth=2, random_state=0).fit(X_5_train_53,y_5_train_53)\n",
    "    model = [rf0, rf1_51, rf1_53]\n",
    "    return model\n",
    "def predict_geo_5(model, X_5_valid):\n",
    "    rf0, rf1_51, rf1_53 = model\n",
    "    y_5_pred = rf0.predict(X_5_valid)\n",
    "    ind_pred_51 = y_5_pred/10 == 51\n",
    "    ind_pred_53 = y_5_pred/10 == 53\n",
    "    \n",
    "    X_5_pred_51 = X_5_valid[ind_pred_51]\n",
    "    X_5_pred_53 = X_5_valid[ind_pred_53]\n",
    "\n",
    "    y_5_pred[ind_pred_51] = rf1_51.predict(X_5_pred_51)\n",
    "    y_5_pred[ind_pred_53] = rf1_53.predict(X_5_pred_53)\n",
    "    \n",
    "    return y_5_pred\n",
    "\n",
    "model = train_geo_5(X_5_train, y_5_train)\n",
    "y_5_pred = predict_geo_5(model, X_5_valid)\n",
    "print sklearn.metrics.accuracy_score(y_5_valid, y_5_pred)"
   ]
  },
  {
   "cell_type": "code",
   "execution_count": null,
   "metadata": {
    "collapsed": false
   },
   "outputs": [],
   "source": []
  },
  {
   "cell_type": "code",
   "execution_count": null,
   "metadata": {
    "collapsed": true
   },
   "outputs": [],
   "source": []
  },
  {
   "cell_type": "code",
   "execution_count": null,
   "metadata": {
    "collapsed": true
   },
   "outputs": [],
   "source": []
  },
  {
   "cell_type": "markdown",
   "metadata": {},
   "source": [
    "### gbm on X_geo_5"
   ]
  },
  {
   "cell_type": "code",
   "execution_count": 862,
   "metadata": {
    "collapsed": false
   },
   "outputs": [
    {
     "data": {
      "text/plain": [
       "0.60431053226071607"
      ]
     },
     "execution_count": 862,
     "metadata": {},
     "output_type": "execute_result"
    }
   ],
   "source": [
    "gbm = GradientBoostingClassifier(n_estimators=1000, learning_rate=1.0,max_depth=4, random_state=0)\n",
    "sklearn.cross_validation.cross_val_score(gbm, X_geo_5,y_geo_5,cv=4).mean()"
   ]
  },
  {
   "cell_type": "code",
   "execution_count": 863,
   "metadata": {
    "collapsed": false
   },
   "outputs": [
    {
     "name": "stdout",
     "output_type": "stream",
     "text": [
      "0.6096\n",
      "{'n_estimators': 1000, 'learning_rate': 0.1, 'random_state': 0, 'max_depth': 5}\n",
      "284.979890108\n"
     ]
    }
   ],
   "source": [
    "import time\n",
    "start_time = time.time()\n",
    "param_grid = {'n_estimators':[1000,3000],\n",
    "              'learning_rate':[0.1,1.0],\n",
    "              'max_depth':[1,5,10,15],\n",
    "              'random_state':[0]}\n",
    "gbm0 = GradientBoostingClassifier()\n",
    "gbm_grid = grid_search.GridSearchCV(gbm0, param_grid)\n",
    "gbm_grid.fit(X_geo_5,y_geo_5)\n",
    "print gbm_grid.best_score_\n",
    "print gbm_grid.best_params_\n",
    "end_time = time.time()\n",
    "print end_time-start_time"
   ]
  },
  {
   "cell_type": "code",
   "execution_count": 864,
   "metadata": {
    "collapsed": false
   },
   "outputs": [
    {
     "data": {
      "text/plain": [
       "array([[ 74,   0,   0,   0,   0],\n",
       "       [  0,  94,   0,   0,   0],\n",
       "       [  0,   0, 167,   0,   0],\n",
       "       [  0,   0,   0, 134,   0],\n",
       "       [  0,   0,   0,   0, 156]])"
      ]
     },
     "execution_count": 864,
     "metadata": {},
     "output_type": "execute_result"
    }
   ],
   "source": [
    "gbm.fit(X_geo_5,y_geo_5)\n",
    "sklearn.metrics.confusion_matrix(gbm.predict(X_geo_5),y_geo_5)"
   ]
  },
  {
   "cell_type": "code",
   "execution_count": 865,
   "metadata": {
    "collapsed": false
   },
   "outputs": [
    {
     "data": {
      "text/plain": [
       "1.0"
      ]
     },
     "execution_count": 865,
     "metadata": {},
     "output_type": "execute_result"
    }
   ],
   "source": [
    "gbm.score(X_geo_5,y_geo_5)"
   ]
  },
  {
   "cell_type": "code",
   "execution_count": 870,
   "metadata": {
    "collapsed": false
   },
   "outputs": [
    {
     "name": "stdout",
     "output_type": "stream",
     "text": [
      "0.650602409639 1.0\n",
      "0.632530120482 1.0\n",
      "0.632530120482 1.0\n",
      "0.632530120482 1.0\n",
      "0.632530120482 1.0\n"
     ]
    }
   ],
   "source": [
    "for ntree in [100,200,500,700,1000]:\n",
    "    gbm = GradientBoostingClassifier(n_estimators=ntree, learning_rate=.1,max_depth=5, random_state=0)\n",
    "    gbm.fit(X_train_geo_split[5],y_train_geo_split[5])\n",
    "    # print sklearn.metrics.confusion_matrix(gbm.predict(X_valid_geo_split[5]),y_valid_geo_split[5])\n",
    "    print gbm.score(X_valid_geo_split[5],y_valid_geo_split[5]), gbm.score(X_train_geo_split[5],y_train_geo_split[5])"
   ]
  },
  {
   "cell_type": "code",
   "execution_count": 874,
   "metadata": {
    "collapsed": false
   },
   "outputs": [
    {
     "name": "stdout",
     "output_type": "stream",
     "text": [
      "0.469879518072 0.623093681917\n",
      "0.5 0.673202614379\n",
      "0.536144578313 0.697167755991\n"
     ]
    }
   ],
   "source": [
    "for ntree in [100,200,300]:\n",
    "    gbm = GradientBoostingClassifier(n_estimators=ntree, learning_rate=.01,max_depth=2, random_state=0)\n",
    "    gbm.fit(X_train_geo_split[5],y_train_geo_split[5])\n",
    "    # print sklearn.metrics.confusion_matrix(gbm.predict(X_valid_geo_split[5]),y_valid_geo_split[5])\n",
    "    print gbm.score(X_valid_geo_split[5],y_valid_geo_split[5]), gbm.score(X_train_geo_split[5],y_train_geo_split[5])"
   ]
  },
  {
   "cell_type": "code",
   "execution_count": 876,
   "metadata": {
    "collapsed": false
   },
   "outputs": [
    {
     "name": "stdout",
     "output_type": "stream",
     "text": [
      "0.578313253012 0.76688453159\n",
      "0.644578313253 0.845315904139\n",
      "0.602409638554 0.928104575163\n",
      "0.614457831325 0.967320261438\n"
     ]
    }
   ],
   "source": [
    "for ntree in [500,1000,2000,3000]:\n",
    "    gbm = GradientBoostingClassifier(n_estimators=ntree, learning_rate=.01,max_depth=2, random_state=0)\n",
    "    gbm.fit(X_train_geo_split[5],y_train_geo_split[5])\n",
    "    # print sklearn.metrics.confusion_matrix(gbm.predict(X_valid_geo_split[5]),y_valid_geo_split[5])\n",
    "    print gbm.score(X_valid_geo_split[5],y_valid_geo_split[5]), gbm.score(X_train_geo_split[5],y_train_geo_split[5])"
   ]
  },
  {
   "cell_type": "code",
   "execution_count": 882,
   "metadata": {
    "collapsed": false
   },
   "outputs": [
    {
     "name": "stdout",
     "output_type": "stream",
     "text": [
      "500 0.469879518072 0.627450980392\n",
      "1000 0.536144578313 0.655773420479\n",
      "2000 0.55421686747 0.697167755991\n",
      "3000 0.596385542169 0.734204793028\n",
      "4000 0.596385542169 0.76688453159\n",
      "6000 0.620481927711 0.790849673203\n",
      "7000 0.614457831325 0.797385620915\n"
     ]
    }
   ],
   "source": [
    "for ntree in [500,1000,2000,3000,4000,6000,7000]:\n",
    "    gbm = GradientBoostingClassifier(n_estimators=ntree, learning_rate=.01,max_depth=1, random_state=0)\n",
    "    gbm.fit(X_train_geo_split[5],y_train_geo_split[5])\n",
    "    # print sklearn.metrics.confusion_matrix(gbm.predict(X_valid_geo_split[5]),y_valid_geo_split[5])\n",
    "    print ntree, gbm.score(X_valid_geo_split[5],y_valid_geo_split[5]), gbm.score(X_train_geo_split[5],y_train_geo_split[5])"
   ]
  },
  {
   "cell_type": "code",
   "execution_count": null,
   "metadata": {
    "collapsed": true
   },
   "outputs": [],
   "source": []
  }
 ],
 "metadata": {
  "kernelspec": {
   "display_name": "Python 2",
   "language": "python",
   "name": "python2"
  },
  "language_info": {
   "codemirror_mode": {
    "name": "ipython",
    "version": 2
   },
   "file_extension": ".py",
   "mimetype": "text/x-python",
   "name": "python",
   "nbconvert_exporter": "python",
   "pygments_lexer": "ipython2",
   "version": "2.7.10"
  }
 },
 "nbformat": 4,
 "nbformat_minor": 0
}
