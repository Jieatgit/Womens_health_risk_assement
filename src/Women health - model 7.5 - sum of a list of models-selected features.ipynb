{
 "cells": [
  {
   "cell_type": "code",
   "execution_count": null,
   "metadata": {
    "collapsed": false
   },
   "outputs": [],
   "source": [
    "import pandas as pd\n",
    "import numpy as np\n",
    "import sklearn\n",
    "from sklearn.ensemble import RandomForestClassifier\n",
    "from sklearn.ensemble import GradientBoostingClassifier\n",
    "from sklearn import linear_model\n",
    "from sklearn import svm\n",
    "from sklearn.preprocessing import OneHotEncoder\n",
    "import matplotlib.pyplot as plt\n",
    "%matplotlib inline\n",
    "\n",
    "class encode_categorical_feature:\n",
    "    def __init__(self,feature):\n",
    "        self.f_set = []\n",
    "        self.feature = feature\n",
    "    def fit(self,data):\n",
    "        if self.feature in data.columns:\n",
    "            self.f_set = sorted(list(data[self.feature].unique()))\n",
    "            f_values   = data[self.feature].apply(lambda x: [self.f_set.index(x) if x in self.f_set else float('nan')])\n",
    "            self.encoder = OneHotEncoder().fit(list(f_values))\n",
    "    def transform(self,data):\n",
    "        if not self.f_set:\n",
    "            return data\n",
    "        f_values  = data[self.feature].apply(lambda x: [self.f_set.index(x)])\n",
    "        f_encoded = self.encoder.transform(list(f_values)).toarray()\n",
    "        f_df      = pd.DataFrame(f_encoded, columns=[self.feature+'_'+str(x) for x in self.f_set])\n",
    "        new_data  = pd.concat([data.reset_index(drop=True),f_df], axis=1)\n",
    "        new_data.drop(self.feature, axis=1, inplace=True)\n",
    "        return new_data\n",
    "\n",
    "def preprocess_data(train_data, test_data):\n",
    "    t = encode_categorical_feature('religion')\n",
    "    t.fit(train_data)\n",
    "    train_data = t.transform(train_data)\n",
    "    test_data  = t.transform(test_data)\n",
    "    \n",
    "#     t = encode_categorical_feature('DISTRICT')\n",
    "#     t.fit(train_data)\n",
    "#     train_data = t.transform(train_data)\n",
    "#     test_data  = t.transform(test_data)\n",
    "    \n",
    "#     t = encode_categorical_feature('tribe')\n",
    "#     t.fit(train_data)\n",
    "#     train_data = t.transform(train_data)\n",
    "#     test_data  = t.transform(test_data)\n",
    "    \n",
    "#     t = encode_categorical_feature('REGION_PROVINCE')\n",
    "#     t.fit(train_data)\n",
    "#     train_data = t.transform(train_data)\n",
    "#     test_data  = t.transform(test_data)\n",
    "    \n",
    "    features = [x for x in train_data.columns if x not in ['patientID', 'geo','segment','subgroup','combined_label', 'INTNR', 'religion']]\n",
    "    target = 'combined_label'\n",
    "    # train_data\n",
    "    train_data['combined_label'] = 100*train_data['geo'] + 10*train_data['segment'] + train_data['subgroup']\n",
    "    train_data = train_data.fillna(0)\n",
    "    X_train,y_train = train_data[features],train_data[target]\n",
    "    # test_data\n",
    "    test_data = test_data.fillna(0)\n",
    "    X_test = test_data[features]\n",
    "    # select features\n",
    "    selection1 = [u'DISTRICT', u'tribe', u'REGION_PROVINCE', u'babydoc', u'foodinsecurity', u'religion_Buddhist', u'india', u'hindu', u'religion_Hindu', u'religion_Russian/Easter', u'educ', u'Debut', u'literacy', u'christian', u'hivknow', u'ModCon', u'age', u'thrasher', u'usecondom', u'religion_Other Christia', u'religion_Muslim', u'muslim', u'lowlit', u'multpart', u'motorcycle', u'CHILDREN', u'LaborDeliv']\n",
    "    selection2 = [u'christian', u'hindu', u'REGION_PROVINCE', u'DISTRICT', u'electricity', u'age', u'tribe', u'foodinsecurity', u'EVER_HAD_SEX', u'EVER_BEEN_PREGNANT', u'CHILDREN', u'india', u'married', u'multpart', u'educ', u'literacy', u'LaborDeliv', u'babydoc', u'Debut', u'ModCon', u'usecondom', u'hivknow', u'religion_Buddhist', u'religion_Hindu', u'religion_Russian/Easter']\n",
    "    selection3 = [u'DISTRICT', u'tribe', u'REGION_PROVINCE', u'babydoc', u'india', u'educ', u'Debut', u'literacy', u'hivknow', u'ModCon', u'age', u'usecondom', u'multpart', u'CHILDREN', u'LaborDeliv', u'married']\n",
    "    selected_features = selection1+selection2+selection3\n",
    "    X_train = X_train[selected_features]\n",
    "    X_test = X_test[selected_features]\n",
    "    return X_train,y_train,X_test\n",
    "    print X_train.columns\n",
    "    return X_train.values,y_train.values,X_test.values\n"
   ]
  },
  {
   "cell_type": "code",
   "execution_count": 102,
   "metadata": {
    "collapsed": false
   },
   "outputs": [
    {
     "name": "stdout",
     "output_type": "stream",
     "text": [
      "(3962, 68)\n"
     ]
    }
   ],
   "source": [
    "data = pd.read_csv('../datasets/WomenHealth_Training.csv')\n",
    "train_ind, valid_ind, y_train_ind, y_valid_ind = sklearn.cross_validation.train_test_split(range(data.shape[0]),range(data.shape[0]),test_size=0.25, random_state=42)\n",
    "train_data = data.loc[train_ind,:]\n",
    "test_data  = data.loc[valid_ind,:]\n",
    "X_train,y_train,X_test = preprocess_data(train_data, test_data)\n",
    "y_test = 100*test_data['geo'] + 10*test_data['segment'] + test_data['subgroup']\n",
    "print X_train.shape"
   ]
  },
  {
   "cell_type": "code",
   "execution_count": null,
   "metadata": {
    "collapsed": false
   },
   "outputs": [],
   "source": [
    "selection1 = [u'DISTRICT', u'tribe', u'REGION_PROVINCE', u'babydoc', u'foodinsecurity', u'religion_Buddhist', u'india', u'hindu', u'religion_Hindu', u'religion_Russian/Easter', u'educ', u'Debut', u'literacy', u'christian', u'hivknow', u'ModCon', u'age', u'thrasher', u'usecondom', u'religion_Other Christia', u'religion_Muslim', u'muslim', u'lowlit', u'multpart', u'motorcycle', u'CHILDREN', u'LaborDeliv']\n",
    "selection2 = [u'christian', u'hindu', u'REGION_PROVINCE', u'DISTRICT', u'electricity', u'age', u'tribe', u'foodinsecurity', u'EVER_HAD_SEX', u'EVER_BEEN_PREGNANT', u'CHILDREN', u'india', u'married', u'multpart', u'educ', u'literacy', u'LaborDeliv', u'babydoc', u'Debut', u'ModCon', u'usecondom', u'hivknow', u'religion_Buddhist', u'religion_Hindu', u'religion_Russian/Easter']\n",
    "selection3 = [u'DISTRICT', u'tribe', u'REGION_PROVINCE', u'babydoc', u'india', u'educ', u'Debut', u'literacy', u'hivknow', u'ModCon', u'age', u'usecondom', u'multpart', u'CHILDREN', u'LaborDeliv', u'married']\n",
    "selected_features = selection1+selection2+selection3\n",
    "print data.columns"
   ]
  },
  {
   "cell_type": "code",
   "execution_count": 103,
   "metadata": {
    "collapsed": false
   },
   "outputs": [
    {
     "name": "stdout",
     "output_type": "stream",
     "text": [
      "0.859954579864\n"
     ]
    }
   ],
   "source": [
    "rf = RandomForestClassifier(n_estimators=1000, max_depth=13, random_state=0)\n",
    "rf.fit(X_train, y_train)\n",
    "y_pred_proba = rf.predict_proba(X_test)\n",
    "y_pred_proba_max= np.apply_along_axis(max, 1, y_pred_proba)\n",
    "y_pred=rf.predict(X_test)\n",
    "print sklearn.metrics.accuracy_score(y_pred, y_test)"
   ]
  },
  {
   "cell_type": "code",
   "execution_count": null,
   "metadata": {
    "collapsed": true
   },
   "outputs": [],
   "source": []
  },
  {
   "cell_type": "code",
   "execution_count": 108,
   "metadata": {
    "collapsed": false
   },
   "outputs": [
    {
     "name": "stdout",
     "output_type": "stream",
     "text": [
      "0.851842503786\n",
      "3611.40774107\n"
     ]
    }
   ],
   "source": [
    "import time\n",
    "from sklearn import grid_search\n",
    "start_time = time.time()\n",
    "param_grid = {'n_estimators':[100,300],\n",
    "              'learning_rate':[0.1,1.0],\n",
    "              'max_depth':[1,2,3,4],\n",
    "              'random_state':[0]}\n",
    "gbm0 = GradientBoostingClassifier()\n",
    "gbm_grid = grid_search.GridSearchCV(gbm0, param_grid, cv=4)\n",
    "gbm_grid.fit(X_train,y_train)\n",
    "print gbm_grid.best_score_\n",
    "end_time = time.time()\n",
    "print end_time-start_time"
   ]
  },
  {
   "cell_type": "markdown",
   "metadata": {},
   "source": [
    "## 1. A collection of models"
   ]
  },
  {
   "cell_type": "code",
   "execution_count": null,
   "metadata": {
    "collapsed": false
   },
   "outputs": [],
   "source": [
    "def gen_models_rf(parameters):\n",
    "    models = []\n",
    "    for n in parameters['n_estimators']:\n",
    "        for m in parameters['max_depth']:\n",
    "            models.append(RandomForestClassifier(n_estimators=n, max_depth=m, random_state=0))\n",
    "    return models\n",
    "def gen_models_gbm(parameters):\n",
    "    models = []\n",
    "    for n in parameters['n_estimators']:\n",
    "        for m in parameters['max_depth']:\n",
    "            for l in parameters['learning_rate']:\n",
    "                models.append(GradientBoostingClassifier(n_estimators=n, max_depth=m, random_state=0))\n",
    "    return models\n",
    "def gen_models_log(parameters):\n",
    "    models = []\n",
    "    for p in parameters['penalty']:\n",
    "        for c in parameters['C']:\n",
    "            models.append(linear_model.LogisticRegression(penalty=p, C=c))\n",
    "    return models\n",
    "\n",
    "def gen_models_svm(parameters):\n",
    "    models = []\n",
    "    for c in parameters['C']:\n",
    "        for k in parameters['kernel']:\n",
    "            if 'gamma' in parameters:\n",
    "                for g in parameters['gamma']:\n",
    "                    models.append(svm.SVC(C=c, kernel=k, gamma=g, probability=True))\n",
    "            else:\n",
    "                models.append(svm.SVC(C=c, kernel=k, probability=True))\n",
    "\n",
    "    return models\n",
    "\n",
    "# models =[ \n",
    "#           RandomForestClassifier(   n_estimators=100,  max_depth=10, random_state=0),\n",
    "#           RandomForestClassifier(   n_estimators=200,  max_depth=8 , random_state=0),\n",
    "#           RandomForestClassifier(   n_estimators=400,  max_depth=10, random_state=0),\n",
    "#           RandomForestClassifier(   n_estimators=1000, max_depth=13, random_state=0),\n",
    "#           RandomForestClassifier(   n_estimators=1200, max_depth=6 , random_state=0),\n",
    "#         GradientBoostingClassifier( n_estimators=100,  max_depth=1, random_state=0, learning_rate=0.1),\n",
    "#         GradientBoostingClassifier( n_estimators=100,  max_depth=2, random_state=0, learning_rate=0.1),\n",
    "#         GradientBoostingClassifier( n_estimators=100,  max_depth=3, random_state=0, learning_rate=0.1),\n",
    "#         GradientBoostingClassifier( n_estimators=300,  max_depth=2, random_state=0, learning_rate=0.1),\n",
    "#         GradientBoostingClassifier( n_estimators=1000, max_depth=2, random_state=0, learning_rate=0.1)\n",
    "#         ]\n",
    "\n",
    "param_gbm = { 'n_estimators':[50, 100,200],\n",
    "              'learning_rate':[0.1,1.0],\n",
    "              'max_depth':[1,2,3]}\n",
    "param_rf  = {'n_estimators':[100,200,500,800,1000],\n",
    "              'max_depth':[1,2,4,6,8,10,13]}\n",
    "param_svc = [\n",
    "              {'C':[0.1, 1, 10, 100], 'kernel': ['linear']},\n",
    "              {'C':[0.1, 1, 10, 100], 'gamma': [0.001, 0.0001], 'kernel': ['rbf']},\n",
    "            ]\n",
    "param_log = {'penalty':('l1','l2'), \n",
    "              'C':[0.1, 1, 10, 100]}\n",
    "m_idx = [0]*5\n",
    "models  = gen_models_gbm(param_gbm)\n",
    "m_idx[1] = len(models)\n",
    "models += gen_models_rf(param_rf)\n",
    "m_idx[2] = len(models)\n",
    "models += gen_models_svm(param_svc[0])\n",
    "models += gen_models_svm(param_svc[1])\n",
    "m_idx[3] = len(models)\n",
    "models += gen_models_log(param_log)\n",
    "m_idx[4] = len(models)\n",
    "# for i in range(m_idx[4]):\n",
    "#     print i,models[i]\n",
    "print m_idx\n",
    "m_idx_rf_1000_13 = 52"
   ]
  },
  {
   "cell_type": "code",
   "execution_count": null,
   "metadata": {
    "collapsed": true
   },
   "outputs": [],
   "source": [
    "class model_collection:\n",
    "    def __init__(self, models):\n",
    "        self.models = models[:]\n",
    "    def fit(self, X_train, y_train):\n",
    "        self.classes = np.unique(y_train)\n",
    "        for i in range(len(self.models)):\n",
    "            self.models[i].fit(X_train,y_train)\n",
    "    def predict_proba(self, X_test):\n",
    "        self.y_proba = []\n",
    "        for m in self.models:\n",
    "            self.y_proba.append(m.predict_proba(X_test))\n",
    "        return self.y_proba\n",
    "    def predict(self, X_test):\n",
    "        self.y_pred = []\n",
    "        for m in self.models:\n",
    "            self.y_pred.append(m.predict(X_test))\n",
    "        return self.y_pred"
   ]
  },
  {
   "cell_type": "code",
   "execution_count": null,
   "metadata": {
    "collapsed": false
   },
   "outputs": [],
   "source": [
    "col = model_collection(models)\n",
    "col.fit(X_train,y_train)\n",
    "y_pred  = col.predict(X_test)\n",
    "y_proba = col.predict_proba(X_test)\n",
    "\n",
    "y_pred = np.array(y_pred).T\n",
    "y_proba_max = np.array([[row.max() for row in yy] for yy in y_proba]).T\n",
    "classes = col.classes"
   ]
  },
  {
   "cell_type": "code",
   "execution_count": null,
   "metadata": {
    "collapsed": false
   },
   "outputs": [],
   "source": []
  },
  {
   "cell_type": "markdown",
   "metadata": {},
   "source": [
    "## 1. Majority vote"
   ]
  },
  {
   "cell_type": "code",
   "execution_count": null,
   "metadata": {
    "collapsed": false
   },
   "outputs": [],
   "source": [
    "def vote_common(row):\n",
    "    d={}\n",
    "    for v in row:\n",
    "        d[v] = d.get(v,0)+1\n",
    "    vote = sorted(d,key=d.get)\n",
    "    return vote[0]\n",
    "y_pred_vote = np.apply_along_axis(vote_common, 1, y_pred)\n",
    "sklearn.metrics.accuracy_score(y_pred_vote, y_test)"
   ]
  },
  {
   "cell_type": "markdown",
   "metadata": {},
   "source": [
    "## 2. Output the prediction that has max probability among models"
   ]
  },
  {
   "cell_type": "code",
   "execution_count": null,
   "metadata": {
    "collapsed": false
   },
   "outputs": [],
   "source": [
    "plt.hist(np.apply_along_axis(max, 1,y_proba_max),30)"
   ]
  },
  {
   "cell_type": "code",
   "execution_count": 109,
   "metadata": {
    "collapsed": false
   },
   "outputs": [
    {
     "data": {
      "text/plain": [
       "0.846328538985617"
      ]
     },
     "execution_count": 109,
     "metadata": {},
     "output_type": "execute_result"
    }
   ],
   "source": [
    "pred_choice = np.apply_along_axis(np.argmax, 1,y_proba_max)\n",
    "pred_by_choice = np.array([y_pred[i,pred_choice[i]] for i in range(len(y_test))])\n",
    "sklearn.metrics.accuracy_score(pred_by_choice,y_test)"
   ]
  },
  {
   "cell_type": "markdown",
   "metadata": {
    "collapsed": false
   },
   "source": [
    "## 3. Sum of prediction probabilities"
   ]
  },
  {
   "cell_type": "code",
   "execution_count": null,
   "metadata": {
    "collapsed": false
   },
   "outputs": [],
   "source": [
    "# The sum of probabilities\n",
    "y_proba_sum = np.zeros_like(y_proba[0])\n",
    "for yy in y_proba:\n",
    "    y_proba_sum += yy\n",
    "y_pred_sum = [classes[row.argmax()] for row in y_proba_sum]\n",
    "sklearn.metrics.accuracy_score(y_pred_sum, y_test)"
   ]
  },
  {
   "cell_type": "code",
   "execution_count": null,
   "metadata": {
    "collapsed": false
   },
   "outputs": [],
   "source": [
    "# def a model class for the sum of probabilites\n",
    "class sum_of_models:\n",
    "    def __init__(self, models):\n",
    "        self.models = models[:]\n",
    "    def fit(self, X_train, y_train):\n",
    "        self.classes = np.unique(y_train)\n",
    "        for i in range(len(self.models)):\n",
    "            self.models[i].fit(X_train,y_train)\n",
    "    def predict(self, X_test):\n",
    "        y_proba = np.zeros((X_test.shape[0],len(self.classes)))\n",
    "        for m in self.models:\n",
    "            y_proba += m.predict_proba(X_test)\n",
    "        myfun = lambda r: self.classes[r.argmax()]\n",
    "        return np.apply_along_axis(myfun, 1, y_proba)\n",
    "    \n",
    "ms = sum_of_models(models)\n",
    "ms.fit(X_train,y_train)\n",
    "y_pred = ms.predict(X_test)\n",
    "sklearn.metrics.accuracy_score(y_pred,y_test)"
   ]
  },
  {
   "cell_type": "markdown",
   "metadata": {
    "collapsed": true
   },
   "source": [
    "## 4. Selection predictions from each model according probability"
   ]
  },
  {
   "cell_type": "markdown",
   "metadata": {
    "collapsed": true
   },
   "source": [
    "### 4.1. Explory the prediciton probalities"
   ]
  },
  {
   "cell_type": "code",
   "execution_count": null,
   "metadata": {
    "collapsed": false
   },
   "outputs": [],
   "source": [
    "plt.hist(y_proba_max[:,m_idx_rf_1000_13],30)"
   ]
  },
  {
   "cell_type": "code",
   "execution_count": null,
   "metadata": {
    "collapsed": false
   },
   "outputs": [],
   "source": [
    "sklearn.metrics.accuracy_score(y_pred[:,m_idx_rf_1000_13],y_test)"
   ]
  },
  {
   "cell_type": "code",
   "execution_count": null,
   "metadata": {
    "collapsed": false
   },
   "outputs": [],
   "source": [
    "for p in np.linspace(0,1,21):\n",
    "    ind = y_proba_max[:,m_idx_rf_1000_13]>p\n",
    "    print \"%.6f \"*2%(p, sklearn.metrics.accuracy_score(y_pred[ind,m_idx_rf_1000_13],y_test[ind])), sum(ind)"
   ]
  },
  {
   "cell_type": "code",
   "execution_count": null,
   "metadata": {
    "collapsed": false
   },
   "outputs": [],
   "source": [
    "score = []\n",
    "for p in np.linspace(0,1,21):\n",
    "    score.append([sklearn.metrics.accuracy_score(y_pred[y_proba_max[:,k]>p,k],y_test[y_proba_max[:,k]>p]) for k in range(len(models))])\n",
    "    print \"%.3f \"*10 % tuple([p]+score[-1][:9])\n",
    "score=np.array(score)"
   ]
  },
  {
   "cell_type": "markdown",
   "metadata": {
    "collapsed": false
   },
   "source": [
    "### 4.2. Select prediction according to model accuracy\n"
   ]
  },
  {
   "cell_type": "code",
   "execution_count": null,
   "metadata": {
    "collapsed": false
   },
   "outputs": [],
   "source": [
    "# 1. predefine a accuracy threshold, score_cut\n",
    "# 2. for each model, find probability p such that the prediciton with probability>p has accuracy > score_cut\n",
    "# 3. update prediction if it has not been updated\n",
    "print 'score_cut, over_all_prediction_accuracy, prediction_accuracy_among_predicted, number_of_prediction_updated'\n",
    "for score_cut in np.linspace(0.85,0.99,16):\n",
    "    y_pred_increament = np.zeros_like(y_test)\n",
    "    p_scale = np.linspace(0,1,21)\n",
    "    p_cut = [p_scale[np.argmax(score[:,k]>score_cut)] for k in range(len(models))]\n",
    "\n",
    "    for k in range(len(models)):\n",
    "        ind_confi_k = y_proba_max[:,k]>p_cut[k]\n",
    "        for ind in [i for i in range(len(y_test)) if ind_confi_k[i]]:\n",
    "            if y_pred_increament[ind]==0:\n",
    "                y_pred_increament[ind] = y_pred[ind,k]\n",
    "\n",
    "    ind_predicted = y_pred_increament!=0\n",
    "    print '%.2f  %.3f  %.3f  %4d'%(score_cut,\n",
    "                                   sklearn.metrics.accuracy_score(y_pred_increament,y_test), \n",
    "                                   sklearn.metrics.accuracy_score(y_pred_increament[ind_predicted],y_test[ind_predicted]), \n",
    "                                   sum(ind_predicted))\n",
    "# for ind in range(len(y_test)):\n",
    "#     if y_pred_increament[ind]==0:\n",
    "#         y_pred_increament[ind] = y_pred[ind,1]\n",
    "# print sklearn.metrics.accuracy_score(y_pred_increament,y_test)\n"
   ]
  },
  {
   "cell_type": "code",
   "execution_count": null,
   "metadata": {
    "collapsed": false
   },
   "outputs": [],
   "source": [
    "# 1. given probability p and select predicitons with probability>p \n",
    "# 2. update prediction if it has not been updated\n",
    "print 'p_cut, over_all_prediction_accuracy, prediction_accuracy_among_predicted, number_of_prediction_updated'\n",
    "for p_cut in np.linspace(0.2,0.99,70):\n",
    "    y_pred_increament = np.zeros_like(y_test)\n",
    "    for k in range(9):\n",
    "        ind_confi_k = y_proba_max[:,k]>p_cut\n",
    "        for ind in [i for i in range(len(y_test)) if ind_confi_k[i]]:\n",
    "            if y_pred_increament[ind]==0:\n",
    "                y_pred_increament[ind] = y_pred[ind,k]\n",
    "    \n",
    "    ind_predicted = y_pred_increament!=0\n",
    "    print '%.2f  %.3f  %.3f  %4d'%(p_cut,\n",
    "                                   sklearn.metrics.accuracy_score(y_pred_increament,y_test), \n",
    "                                   sklearn.metrics.accuracy_score(y_pred_increament[ind_predicted],y_test[ind_predicted]), \n",
    "                                   sum(ind_predicted))"
   ]
  },
  {
   "cell_type": "markdown",
   "metadata": {},
   "source": [
    "**Result:** The over all accuracy is not improved. The reason could be that the selection method does not guanratee the accuracy of the newly added predictions."
   ]
  },
  {
   "cell_type": "markdown",
   "metadata": {},
   "source": [
    "### 4.3. Selection predictions with contralled accuracy\n",
    "This method selects predicitons according to prabability thretholds with contralled accuracy.\n",
    "\n",
    "#### 4.3.1. Select good-accuracy predictions and choose a model to fill the rest\n",
    "The first level selection is good. The second is not."
   ]
  },
  {
   "cell_type": "code",
   "execution_count": null,
   "metadata": {
    "collapsed": false
   },
   "outputs": [],
   "source": [
    "# 1. given probability p and select predicitons with probability>p \n",
    "# 2. update prediction if it has not been updated\n",
    "print 'p_cut, over_all_prediction_accuracy, prediction_accuracy_among_predicted, number_of_prediction_updated'\n",
    "# for p_cut in np.linspace(0.6,0.99,40):\n",
    "for p_cut in [0.78]:\n",
    "    y_pred_increament = np.zeros_like(y_test)\n",
    "    for k in range(len(models)):\n",
    "        ind_confi_k = y_proba_max[:,k]>p_cut\n",
    "        for ind in [i for i in range(len(y_test)) if ind_confi_k[i]]:\n",
    "            if y_pred_increament[ind]==0:\n",
    "                y_pred_increament[ind] = y_pred[ind,k]\n",
    "    \n",
    "    ind_predicted = y_pred_increament!=0\n",
    "    print '%.2f  %.4f  %.4f  %4d'%(p_cut,\n",
    "                                   sklearn.metrics.accuracy_score(y_pred_increament,y_test), \n",
    "                                   sklearn.metrics.accuracy_score(y_pred_increament[ind_predicted],y_test[ind_predicted]), \n",
    "                                   sum(ind_predicted))\n",
    "\n",
    "for k in range(len(models)):\n",
    "    y_pred_tmp = np.array(y_pred_increament)[:]\n",
    "    ind_remaining = [i for i in range(len(y_test)) if y_pred_increament[i]==0]\n",
    "    for ind in range(len(y_test)):\n",
    "        if y_pred_tmp[ind]==0:\n",
    "            y_pred_tmp[ind] = y_pred[ind,k]\n",
    "    print '%2d %.4f %.4f'%(k, sklearn.metrics.accuracy_score(y_pred_tmp,y_test),sklearn.metrics.accuracy_score(y_pred_tmp[ind_remaining],y_test.values[ind_remaining]))\n"
   ]
  },
  {
   "cell_type": "code",
   "execution_count": null,
   "metadata": {
    "collapsed": false
   },
   "outputs": [],
   "source": [
    "# 1. given probability p and select predicitons with probability>p \n",
    "# 2. update prediction if it has not been updated\n",
    "# print 'p_cut, over_all_prediction_accuracy, prediction_accuracy_among_predicted, number_of_prediction_updated'\n",
    "for p_cut in np.linspace(0.6,1,41):\n",
    "# for p_cut in [0.8]:\n",
    "    y_pred_increament = np.zeros_like(y_test)\n",
    "    for k in range(len(models)):\n",
    "        ind_confi_k = y_proba_max[:,k]>p_cut\n",
    "        for ind in [i for i in range(len(y_test)) if ind_confi_k[i]]:\n",
    "            if y_pred_increament[ind]==0:\n",
    "                y_pred_increament[ind] = y_pred[ind,k]\n",
    "    \n",
    "    ind_predicted = y_pred_increament!=0\n",
    "    increament_score = sklearn.metrics.accuracy_score(y_pred_increament[ind_predicted],y_test[ind_predicted])\n",
    "#     print '%.2f  %.3f  %.3f  %4d'%(p_cut,\n",
    "#                                    sklearn.metrics.accuracy_score(y_pred_increament,y_test), \n",
    "#                                    sklearn.metrics.accuracy_score(y_pred_increament[ind_predicted],y_test[ind_predicted]), \n",
    "#                                    sum(ind_predicted))\n",
    "    \n",
    "    ind_remaining = [i for i in range(len(y_test)) if y_pred_increament[i]==0]\n",
    "    ramain_scores = []\n",
    "    best_scores = []\n",
    "    for k in range(len(models)):\n",
    "        y_pred_tmp = y_pred_increament[:]\n",
    "#         for ind in range(len(y_test)):\n",
    "#             if y_pred_tmp[ind]==0:\n",
    "#                 y_pred_tmp[ind] = y_pred[ind,k]\n",
    "        y_pred_tmp[ind_remaining] = y_pred[ind_remaining,k]\n",
    "        ramain_scores.append(sklearn.metrics.accuracy_score(y_pred_tmp[ind_remaining],y_test.values[ind_remaining]))\n",
    "        best_scores.append(sklearn.metrics.accuracy_score(y_pred_tmp,y_test))\n",
    "#     best_m_ind = max(ramain_scores)\n",
    "    \n",
    "    print '%.2f   %4d    %.4f   %.4f   %.4f'%(p_cut, len(ind_remaining), increament_score, max(ramain_scores), max(best_scores))\n",
    "    \n",
    "#     print '%2d %.4f %.4f'%(k, sklearn.metrics.accuracy_score(y_pred_tmp,y_test),sklearn.metrics.accuracy_score(y_pred_tmp[ind_remaining],y_test.values[ind_remaining]))\n"
   ]
  },
  {
   "cell_type": "markdown",
   "metadata": {},
   "source": [
    "#### 4.3.2. Multi-level contralled selection"
   ]
  },
  {
   "cell_type": "markdown",
   "metadata": {
    "collapsed": true
   },
   "source": [
    "## 5. Select models before voting"
   ]
  },
  {
   "cell_type": "code",
   "execution_count": null,
   "metadata": {
    "collapsed": true
   },
   "outputs": [],
   "source": [
    "# models_all = models\n",
    "# y_pred_all = y_pred[:,:]\n",
    "# y_proba_all = y_proba[:]\n",
    "# y_proba_max_all = y_proba_max[:,:]"
   ]
  },
  {
   "cell_type": "code",
   "execution_count": null,
   "metadata": {
    "collapsed": false
   },
   "outputs": [],
   "source": [
    "m_scores = [sklearn.metrics.accuracy_score(y_test, y_pred_all[:,k]) for k in range(len(models_all))]"
   ]
  },
  {
   "cell_type": "code",
   "execution_count": null,
   "metadata": {
    "collapsed": false
   },
   "outputs": [],
   "source": [
    "plt.hist(m_scores,30)"
   ]
  },
  {
   "cell_type": "code",
   "execution_count": null,
   "metadata": {
    "collapsed": false
   },
   "outputs": [],
   "source": [
    "print sum([mm>0.85 for mm in m_scores])\n",
    "plt.plot(np.linspace(0,1,100), [sum([mm>p for mm in m_scores]) for p in np.linspace(0,1,100)])"
   ]
  },
  {
   "cell_type": "code",
   "execution_count": null,
   "metadata": {
    "collapsed": false
   },
   "outputs": [],
   "source": []
  },
  {
   "cell_type": "code",
   "execution_count": 106,
   "metadata": {
    "collapsed": false
   },
   "outputs": [
    {
     "name": "stdout",
     "output_type": "stream",
     "text": [
      "[ 0.82967449  0.82967449  0.82361847  0.82361847  0.82437547  0.82437547\n",
      "  0.83118849  0.83118849  0.82891749  0.82891749  0.84708554  0.8342165\n",
      "  0.83648751  0.8342165   0.82286147  0.82286147]\n",
      "[4, 5, 8, 9, 10, 11, 14, 15, 16, 17, 53, 54, 63, 66, 70, 71]\n",
      "16\n"
     ]
    },
    {
     "data": {
      "text/plain": [
       "[GradientBoostingClassifier(init=None, learning_rate=0.1, loss='deviance',\n",
       "               max_depth=3, max_features=None, max_leaf_nodes=None,\n",
       "               min_samples_leaf=1, min_samples_split=2, n_estimators=50,\n",
       "               random_state=0, subsample=1.0, verbose=0, warm_start=False),\n",
       " GradientBoostingClassifier(init=None, learning_rate=0.1, loss='deviance',\n",
       "               max_depth=3, max_features=None, max_leaf_nodes=None,\n",
       "               min_samples_leaf=1, min_samples_split=2, n_estimators=50,\n",
       "               random_state=0, subsample=1.0, verbose=0, warm_start=False),\n",
       " GradientBoostingClassifier(init=None, learning_rate=0.1, loss='deviance',\n",
       "               max_depth=2, max_features=None, max_leaf_nodes=None,\n",
       "               min_samples_leaf=1, min_samples_split=2, n_estimators=100,\n",
       "               random_state=0, subsample=1.0, verbose=0, warm_start=False),\n",
       " GradientBoostingClassifier(init=None, learning_rate=0.1, loss='deviance',\n",
       "               max_depth=2, max_features=None, max_leaf_nodes=None,\n",
       "               min_samples_leaf=1, min_samples_split=2, n_estimators=100,\n",
       "               random_state=0, subsample=1.0, verbose=0, warm_start=False),\n",
       " GradientBoostingClassifier(init=None, learning_rate=0.1, loss='deviance',\n",
       "               max_depth=3, max_features=None, max_leaf_nodes=None,\n",
       "               min_samples_leaf=1, min_samples_split=2, n_estimators=100,\n",
       "               random_state=0, subsample=1.0, verbose=0, warm_start=False),\n",
       " GradientBoostingClassifier(init=None, learning_rate=0.1, loss='deviance',\n",
       "               max_depth=3, max_features=None, max_leaf_nodes=None,\n",
       "               min_samples_leaf=1, min_samples_split=2, n_estimators=100,\n",
       "               random_state=0, subsample=1.0, verbose=0, warm_start=False),\n",
       " GradientBoostingClassifier(init=None, learning_rate=0.1, loss='deviance',\n",
       "               max_depth=2, max_features=None, max_leaf_nodes=None,\n",
       "               min_samples_leaf=1, min_samples_split=2, n_estimators=200,\n",
       "               random_state=0, subsample=1.0, verbose=0, warm_start=False),\n",
       " GradientBoostingClassifier(init=None, learning_rate=0.1, loss='deviance',\n",
       "               max_depth=2, max_features=None, max_leaf_nodes=None,\n",
       "               min_samples_leaf=1, min_samples_split=2, n_estimators=200,\n",
       "               random_state=0, subsample=1.0, verbose=0, warm_start=False),\n",
       " GradientBoostingClassifier(init=None, learning_rate=0.1, loss='deviance',\n",
       "               max_depth=3, max_features=None, max_leaf_nodes=None,\n",
       "               min_samples_leaf=1, min_samples_split=2, n_estimators=200,\n",
       "               random_state=0, subsample=1.0, verbose=0, warm_start=False),\n",
       " GradientBoostingClassifier(init=None, learning_rate=0.1, loss='deviance',\n",
       "               max_depth=3, max_features=None, max_leaf_nodes=None,\n",
       "               min_samples_leaf=1, min_samples_split=2, n_estimators=200,\n",
       "               random_state=0, subsample=1.0, verbose=0, warm_start=False),\n",
       " SVC(C=0.1, cache_size=200, class_weight=None, coef0=0.0, degree=3, gamma=0.0,\n",
       "   kernel='linear', max_iter=-1, probability=True, random_state=None,\n",
       "   shrinking=True, tol=0.001, verbose=False),\n",
       " SVC(C=1, cache_size=200, class_weight=None, coef0=0.0, degree=3, gamma=0.0,\n",
       "   kernel='linear', max_iter=-1, probability=True, random_state=None,\n",
       "   shrinking=True, tol=0.001, verbose=False),\n",
       " SVC(C=100, cache_size=200, class_weight=None, coef0=0.0, degree=3,\n",
       "   gamma=0.001, kernel='rbf', max_iter=-1, probability=True,\n",
       "   random_state=None, shrinking=True, tol=0.001, verbose=False),\n",
       " LogisticRegression(C=1, class_weight=None, dual=False, fit_intercept=True,\n",
       "           intercept_scaling=1, penalty='l1', random_state=None, tol=0.0001),\n",
       " LogisticRegression(C=1, class_weight=None, dual=False, fit_intercept=True,\n",
       "           intercept_scaling=1, penalty='l2', random_state=None, tol=0.0001),\n",
       " LogisticRegression(C=10, class_weight=None, dual=False, fit_intercept=True,\n",
       "           intercept_scaling=1, penalty='l2', random_state=None, tol=0.0001)]"
      ]
     },
     "execution_count": 106,
     "metadata": {},
     "output_type": "execute_result"
    }
   ],
   "source": [
    "selected_models_ind = [i for i in range(len(models_all)) if m_scores[i]>0.821]\n",
    "# selected_models_ind = sorted(selected_models_ind, key=lambda i: m_scores[i], reverse=True)\n",
    "models      = [models_all[i] for i in selected_models_ind]\n",
    "y_pred      = y_pred_all[:,selected_models_ind]\n",
    "y_proba_max = y_proba_max_all[:,selected_models_ind]\n",
    "y_proba     = [y_proba_all[i] for i in selected_models_ind]\n",
    "print np.array(m_scores)[selected_models_ind]\n",
    "print selected_models_ind\n",
    "print len(models)\n",
    "models"
   ]
  },
  {
   "cell_type": "code",
   "execution_count": null,
   "metadata": {
    "collapsed": false
   },
   "outputs": [],
   "source": [
    "# 1. given probability p and select predicitons with probability>p \n",
    "# 2. update prediction if it has not been updated\n",
    "# print 'p_cut, over_all_prediction_accuracy, prediction_accuracy_among_predicted, number_of_prediction_updated'\n",
    "for p_cut in np.linspace(0.6,1,41):\n",
    "# for p_cut in [0.8]:\n",
    "    y_pred_increament = np.zeros_like(y_test)\n",
    "    for k in range(len(models)):\n",
    "        ind_confi_k = y_proba_max[:,k]>p_cut\n",
    "        for ind in [i for i in range(len(y_test)) if ind_confi_k[i]]:\n",
    "            if y_pred_increament[ind]==0:\n",
    "                y_pred_increament[ind] = y_pred[ind,k]\n",
    "    \n",
    "    ind_predicted = y_pred_increament!=0\n",
    "    increament_score = sklearn.metrics.accuracy_score(y_pred_increament[ind_predicted],y_test[ind_predicted])\n",
    "#     print '%.2f  %.3f  %.3f  %4d'%(p_cut,\n",
    "#                                    sklearn.metrics.accuracy_score(y_pred_increament,y_test), \n",
    "#                                    sklearn.metrics.accuracy_score(y_pred_increament[ind_predicted],y_test[ind_predicted]), \n",
    "#                                    sum(ind_predicted))\n",
    "    \n",
    "    ind_remaining = [i for i in range(len(y_test)) if y_pred_increament[i]==0]\n",
    "    ramain_scores = []\n",
    "    best_scores = []\n",
    "    for k in range(len(models)):\n",
    "        y_pred_tmp = y_pred_increament[:]\n",
    "#         for ind in range(len(y_test)):\n",
    "#             if y_pred_tmp[ind]==0:\n",
    "#                 y_pred_tmp[ind] = y_pred[ind,k]\n",
    "        y_pred_tmp[ind_remaining] = y_pred[ind_remaining,k]\n",
    "        ramain_scores.append(sklearn.metrics.accuracy_score(y_pred_tmp[ind_remaining],y_test.values[ind_remaining]))\n",
    "        best_scores.append(sklearn.metrics.accuracy_score(y_pred_tmp,y_test))\n",
    "#     best_m_ind = max(ramain_scores)\n",
    "    \n",
    "    print '%.2f   %4d    %.4f   %.4f   %.4f'%(p_cut, len(ind_remaining), increament_score, max(ramain_scores), max(best_scores)), selected_models_ind[np.argmax(ramain_scores)]\n",
    "    \n",
    "#     print '%2d %.4f %.4f'%(k, sklearn.metrics.accuracy_score(y_pred_tmp,y_test),sklearn.metrics.accuracy_score(y_pred_tmp[ind_remaining],y_test.values[ind_remaining]))\n"
   ]
  },
  {
   "cell_type": "code",
   "execution_count": null,
   "metadata": {
    "collapsed": true
   },
   "outputs": [],
   "source": []
  },
  {
   "cell_type": "code",
   "execution_count": null,
   "metadata": {
    "collapsed": false
   },
   "outputs": [],
   "source": [
    "def vote_common(row):\n",
    "    d={}\n",
    "    for v in row:\n",
    "        d[v] = d.get(v,0)+1\n",
    "    vote = sorted(d,key=d.get)\n",
    "    return vote[0]\n",
    "y_pred_vote = np.apply_along_axis(vote_common, 1, y_pred)\n",
    "sklearn.metrics.accuracy_score(y_pred_vote, y_test)"
   ]
  },
  {
   "cell_type": "code",
   "execution_count": null,
   "metadata": {
    "collapsed": false
   },
   "outputs": [],
   "source": [
    "pred_choice = np.apply_along_axis(np.argmax, 1,y_proba_max)\n",
    "pred_by_choice = np.array([y_pred[i,pred_choice[i]] for i in range(len(y_test))])\n",
    "sklearn.metrics.accuracy_score(pred_by_choice,y_test)"
   ]
  },
  {
   "cell_type": "code",
   "execution_count": null,
   "metadata": {
    "collapsed": false
   },
   "outputs": [],
   "source": [
    "# The sum of probabilities\n",
    "y_proba_sum = np.zeros_like(y_proba[0])\n",
    "for yy in y_proba:\n",
    "    y_proba_sum += yy\n",
    "y_pred_sum = [classes[row.argmax()] for row in y_proba_sum]\n",
    "sklearn.metrics.accuracy_score(y_pred_sum, y_test)"
   ]
  },
  {
   "cell_type": "code",
   "execution_count": null,
   "metadata": {
    "collapsed": false
   },
   "outputs": [],
   "source": []
  },
  {
   "cell_type": "markdown",
   "metadata": {},
   "source": [
    "## 6. Submit versions"
   ]
  },
  {
   "cell_type": "code",
   "execution_count": null,
   "metadata": {
    "collapsed": false
   },
   "outputs": [],
   "source": [
    "import pandas as pd\n",
    "import numpy as np\n",
    "import sklearn\n",
    "from sklearn.ensemble import RandomForestClassifier\n",
    "from sklearn.ensemble import GradientBoostingClassifier\n",
    "from sklearn import linear_model\n",
    "from sklearn import svm\n",
    "from sklearn.preprocessing import OneHotEncoder\n",
    "import matplotlib.pyplot as plt\n",
    "%matplotlib inline\n",
    "\n",
    "class encode_categorical_feature:\n",
    "    def __init__(self,feature):\n",
    "        self.f_set = []\n",
    "        self.feature = feature\n",
    "    def fit(self,data):\n",
    "        if self.feature in data.columns:\n",
    "            self.f_set = sorted(list(data[self.feature].unique()))\n",
    "            f_values   = data[self.feature].apply(lambda x: [self.f_set.index(x)])\n",
    "            self.encoder = OneHotEncoder().fit(list(f_values))\n",
    "    def transform(self,data):\n",
    "        if not self.f_set:\n",
    "            return data\n",
    "        f_values  = data[self.feature].apply(lambda x: [self.f_set.index(x)])\n",
    "        f_encoded = self.encoder.transform(list(f_values)).toarray()\n",
    "        f_df      = pd.DataFrame(f_encoded, columns=[self.feature+'_'+str(x) for x in self.f_set])\n",
    "        new_data  = pd.concat([data.reset_index(drop=True),f_df], axis=1)\n",
    "        new_data.drop(self.feature, axis=1, inplace=True)\n",
    "        return new_data\n",
    "\n",
    "def preprocess_data(train_data, test_data):\n",
    "    t = encode_categorical_feature('religion')\n",
    "    t.fit(train_data)\n",
    "    train_data = t.transform(train_data)\n",
    "    test_data  = t.transform(test_data)\n",
    "    \n",
    "    features = [x for x in train_data.columns if x not in ['patientID', 'geo','segment','subgroup','combined_label', 'INTNR' ]]\n",
    "    target = 'combined_label'\n",
    "    # train_data\n",
    "    train_data['combined_label'] = 100*train_data['geo'] + 10*train_data['segment'] + train_data['subgroup']\n",
    "    train_data = train_data.fillna(0)\n",
    "    X_train,y_train = train_data[features],train_data[target]\n",
    "    # test_data\n",
    "    test_data = test_data.fillna(0)\n",
    "    X_test = test_data[features]\n",
    "    # select features\n",
    "    selection1 = ['DISTRICT', u'tribe', u'REGION_PROVINCE', u'babydoc', u'foodinsecurity', u'religion_Buddhist', u'india', u'hindu', u'religion_Hindu', u'religion_Russian/Easter', u'educ', u'Debut', u'literacy', u'christian', u'hivknow', u'ModCon', u'age', u'thrasher', u'usecondom', u'religion_Other Christia', u'religion_Muslim', u'muslim', u'lowlit', u'multpart', u'motorcycle', u'CHILDREN', u'LaborDeliv']\n",
    "    selection2 = [u'christian', u'hindu', u'REGION_PROVINCE', u'DISTRICT', u'electricity', u'age', u'tribe', u'foodinsecurity', u'EVER_HAD_SEX', u'EVER_BEEN_PREGNANT', u'CHILDREN', u'india', u'married', u'multpart', u'educ', u'literacy', u'LaborDeliv', u'babydoc', u'Debut', u'ModCon', u'usecondom', u'hivknow', u'religion_Buddhist', u'religion_Hindu', u'religion_Russian/Easter']\n",
    "    selection3 = [u'DISTRICT', u'tribe', u'REGION_PROVINCE', u'babydoc', u'india', u'educ', u'Debut', u'literacy', u'hivknow', u'ModCon', u'age', u'usecondom', u'multpart', u'CHILDREN', u'LaborDeliv', u'married']\n",
    "    selected_features = selection1+selection2+selection3\n",
    "    X_train = X_train[selected_features]\n",
    "    X_test = X_test[selected_features]\n",
    "#     return X_train,y_train,X_test\n",
    "    return X_train.values,y_train.values,X_test.values\n",
    "\n",
    "def gen_models():\n",
    "    def gen_models_rf(parameters):\n",
    "        models = []\n",
    "        for n in parameters['n_estimators']:\n",
    "            for m in parameters['max_depth']:\n",
    "                models.append(RandomForestClassifier(n_estimators=n, max_depth=m, random_state=0))\n",
    "        return models\n",
    "    def gen_models_gbm(parameters):\n",
    "        models = []\n",
    "        for n in parameters['n_estimators']:\n",
    "            for m in parameters['max_depth']:\n",
    "                for l in parameters['learning_rate']:\n",
    "                    models.append(GradientBoostingClassifier(n_estimators=n, max_depth=m, random_state=0))\n",
    "        return models\n",
    "    def gen_models_log(parameters):\n",
    "        models = []\n",
    "        for p in parameters['penalty']:\n",
    "            for c in parameters['C']:\n",
    "                models.append(linear_model.LogisticRegression(penalty=p, C=c))\n",
    "        return models\n",
    "\n",
    "    def gen_models_svm(parameters):\n",
    "        models = []\n",
    "        for c in parameters['C']:\n",
    "            for k in parameters['kernel']:\n",
    "                if 'gamma' in parameters:\n",
    "                    for g in parameters['gamma']:\n",
    "                        models.append(svm.SVC(C=c, kernel=k, gamma=g, probability=True))\n",
    "                else:\n",
    "                    models.append(svm.SVC(C=c, kernel=k, probability=True))\n",
    "\n",
    "        return models\n",
    "\n",
    "    param_gbm = { 'n_estimators':[50, 100,200],\n",
    "                  'learning_rate':[0.1,1.0],\n",
    "                  'max_depth':[1,2,3]}\n",
    "    param_rf  = {'n_estimators':[100,200,500,800,1000,],\n",
    "                  'max_depth':[1,2,4,6,8,10,13]}\n",
    "    param_svc = [\n",
    "                  {'C':[0.1, 1, 10, 100], 'kernel': ['linear']},\n",
    "                  {'C':[0.1, 1, 10, 100], 'gamma': [0.001, 0.0001], 'kernel': ['rbf']},\n",
    "                ]\n",
    "    param_log = {'penalty':('l1','l2'), \n",
    "                  'C':[0.1, 1, 10, 100]}\n",
    "    models  = gen_models_gbm(param_gbm)\n",
    "    models += gen_models_rf(param_rf)\n",
    "    models += gen_models_svm(param_svc[0])\n",
    "    models += gen_models_svm(param_svc[1])\n",
    "    models += gen_models_log(param_log)\n",
    "    selection_ind = [45, 38, 52, 31, 24, 16, 17, 30, 14, 15, 37]\n",
    "    models = [models[i] for i in selection_ind]\n",
    "    return models\n",
    "\n",
    "\n",
    "class model_collection:\n",
    "    def __init__(self, models):\n",
    "        self.models = models[:]\n",
    "    def fit(self, X_train, y_train):\n",
    "        self.classes = np.unique(y_train)\n",
    "        for i in range(len(self.models)):\n",
    "            self.models[i].fit(X_train,y_train)\n",
    "    def predict_proba(self, X_test):\n",
    "        self.y_proba = []\n",
    "        for m in self.models:\n",
    "            self.y_proba.append(m.predict_proba(X_test))\n",
    "        return self.y_proba\n",
    "    def predict(self, X_test):\n",
    "        self.y_pred = []\n",
    "        for m in self.models:\n",
    "            self.y_pred.append(m.predict(X_test))\n",
    "        return self.y_pred\n",
    "    \n",
    "\n",
    "class combined_model:\n",
    "    def __init__(self):\n",
    "        models = gen_models()\n",
    "        self.model_col = model_collection(models)\n",
    "    def fit(self, X_train, y_train):\n",
    "        self.model_col.fit(X_train, y_train)\n",
    "    def predict(self, X_test):\n",
    "        y_pred  = self.model_col.predict(X_test)\n",
    "        y_pred  = np.array(y_pred).T\n",
    "        y_proba = self.model_col.predict_proba(X_test)\n",
    "        y_proba_max = np.array([[row.max() for row in yy] for yy in y_proba]).T\n",
    "        \n",
    "        # predictions with better confidency\n",
    "        p_cut = 0.8\n",
    "        y_pred_increament = np.zeros(X_test.shape[0])\n",
    "        for k in range(len(self.model_col.models)):\n",
    "            for ind in range(X_test.shape[0]):\n",
    "                if y_pred_increament[ind]==0 and y_proba_max[ind,k]>p_cut:\n",
    "                    y_pred_increament[ind] = y_pred[ind,k]\n",
    "\n",
    "        # remaining preditions\n",
    "        ind_remaining = [i for i in range(len(y_test)) if y_pred_increament[i]==0]\n",
    "        best_m_for_remaining = 2\n",
    "        y_pred_increament[ind_remaining] = y_pred[ind_remaining,best_m_for_remaining]\n",
    "        self.prediction = y_pred_increament\n",
    "#         print self.model_col.models[2]\n",
    "        return self.prediction\n",
    "        \n",
    "        \n",
    "def azureml_main(train_data = None, test_data = None):\n",
    "    features = [x for x in train_data.columns if x not in ['geo','segment','subgroup' ]]\n",
    "    test_data = test_data[features]\n",
    "    \n",
    "    X_train,y_train,X_test = preprocess_data(train_data, test_data)\n",
    "    \n",
    "    m = combined_model()\n",
    "    m.fit(X_train, y_train)\n",
    "    y_pred = m.predict(X_test)\n",
    "    \n",
    "#     test_data['Geo_Pred']      = y_pred/100\n",
    "#     test_data['Segment_Pred']  = y_pred/10%10\n",
    "#     test_data['Subgroup_Pred'] = y_pred%10\n",
    "    \n",
    "#     return test_data[['patientID','Geo_Pred','Segment_Pred','Subgroup_Pred']]\n",
    "\n",
    "#     output = pd.DataFrame()\n",
    "#     output['patientID']=test_data['patientID']\n",
    "#     output['Geo_Pred']      = y_pred/100\n",
    "#     output['Segment_Pred']  = y_pred/10%10\n",
    "#     output['Subgroup_Pred'] = y_pred%10\n",
    "#     return output\n",
    "    return y_pred\n",
    "\n",
    "\n",
    "\n",
    "\n",
    "    \n",
    "data = pd.read_csv('../datasets/WomenHealth_Training.csv')\n",
    "from sklearn.cross_validation import KFold\n",
    "scores = []\n",
    "for train_ind, valid_ind in KFold(data.shape[0], n_folds=4): \n",
    "    train_data = data.loc[train_ind,:]\n",
    "    test_data  = data.loc[valid_ind,:]\n",
    "    y_test = 100*test_data['geo'] + 10*test_data['segment'] + test_data['subgroup']\n",
    "    y_pred = azureml_main(train_data, test_data)\n",
    "    scores.append(sklearn.metrics.accuracy_score(y_pred, y_test))\n",
    "    print scores[-1]"
   ]
  },
  {
   "cell_type": "code",
   "execution_count": null,
   "metadata": {
    "collapsed": true
   },
   "outputs": [],
   "source": [
    "# use models[45] and p_cut=0.74\n",
    "# 0.855412566238\n",
    "# 0.869795609387\n",
    "# 0.813777441332\n",
    "# 0.85"
   ]
  },
  {
   "cell_type": "code",
   "execution_count": null,
   "metadata": {
    "collapsed": false
   },
   "outputs": [],
   "source": []
  },
  {
   "cell_type": "markdown",
   "metadata": {},
   "source": [
    "### 6.2. sum of models"
   ]
  },
  {
   "cell_type": "code",
   "execution_count": null,
   "metadata": {
    "collapsed": false
   },
   "outputs": [],
   "source": [
    "import pandas as pd\n",
    "import numpy as np\n",
    "import sklearn\n",
    "from sklearn.ensemble import RandomForestClassifier\n",
    "from sklearn.ensemble import GradientBoostingClassifier\n",
    "from sklearn import linear_model\n",
    "from sklearn import svm\n",
    "from sklearn.preprocessing import OneHotEncoder\n",
    "import matplotlib.pyplot as plt\n",
    "%matplotlib inline\n",
    "\n",
    "class encode_categorical_feature:\n",
    "    def __init__(self,feature):\n",
    "        self.f_set = []\n",
    "        self.feature = feature\n",
    "    def fit(self,data):\n",
    "        if self.feature in data.columns:\n",
    "            self.f_set = sorted(list(data[self.feature].unique()))\n",
    "            f_values   = data[self.feature].apply(lambda x: [self.f_set.index(x)])\n",
    "            self.encoder = OneHotEncoder().fit(list(f_values))\n",
    "    def transform(self,data):\n",
    "        if not self.f_set:\n",
    "            return data\n",
    "        f_values  = data[self.feature].apply(lambda x: [self.f_set.index(x)])\n",
    "        f_encoded = self.encoder.transform(list(f_values)).toarray()\n",
    "        f_df      = pd.DataFrame(f_encoded, columns=[self.feature+'_'+str(x) for x in self.f_set])\n",
    "        new_data  = pd.concat([data.reset_index(drop=True),f_df], axis=1)\n",
    "        new_data.drop(self.feature, axis=1, inplace=True)\n",
    "        return new_data\n",
    "\n",
    "def preprocess_data(train_data, test_data):\n",
    "    t = encode_categorical_feature('religion')\n",
    "    t.fit(train_data)\n",
    "    train_data = t.transform(train_data)\n",
    "    test_data  = t.transform(test_data)\n",
    "    \n",
    "    features = [x for x in train_data.columns if x not in ['patientID', 'geo','segment','subgroup','combined_label', 'INTNR' ]]\n",
    "    target = 'combined_label'\n",
    "    # train_data\n",
    "    train_data['combined_label'] = 100*train_data['geo'] + 10*train_data['segment'] + train_data['subgroup']\n",
    "    train_data = train_data.fillna(0)\n",
    "    X_train,y_train = train_data[features],train_data[target]\n",
    "    # test_data\n",
    "    test_data = test_data.fillna(0)\n",
    "    X_test = test_data[features]\n",
    "    # select features\n",
    "    selection1 = ['DISTRICT', u'tribe', u'REGION_PROVINCE', u'babydoc', u'foodinsecurity', u'religion_Buddhist', u'india', u'hindu', u'religion_Hindu', u'religion_Russian/Easter', u'educ', u'Debut', u'literacy', u'christian', u'hivknow', u'ModCon', u'age', u'thrasher', u'usecondom', u'religion_Other Christia', u'religion_Muslim', u'muslim', u'lowlit', u'multpart', u'motorcycle', u'CHILDREN', u'LaborDeliv']\n",
    "    selection2 = [u'christian', u'hindu', u'REGION_PROVINCE', u'DISTRICT', u'electricity', u'age', u'tribe', u'foodinsecurity', u'EVER_HAD_SEX', u'EVER_BEEN_PREGNANT', u'CHILDREN', u'india', u'married', u'multpart', u'educ', u'literacy', u'LaborDeliv', u'babydoc', u'Debut', u'ModCon', u'usecondom', u'hivknow', u'religion_Buddhist', u'religion_Hindu', u'religion_Russian/Easter']\n",
    "    selection3 = [u'DISTRICT', u'tribe', u'REGION_PROVINCE', u'babydoc', u'india', u'educ', u'Debut', u'literacy', u'hivknow', u'ModCon', u'age', u'usecondom', u'multpart', u'CHILDREN', u'LaborDeliv', u'married']\n",
    "    selected_features = selection1+selection2+selection3\n",
    "    X_train = X_train[selected_features]\n",
    "    X_test = X_test[selected_features]\n",
    "#     return X_train,y_train,X_test\n",
    "    return X_train.values,y_train.values,X_test.values\n",
    "\n",
    "def gen_models():\n",
    "    def gen_models_rf(parameters):\n",
    "        models = []\n",
    "        for n in parameters['n_estimators']:\n",
    "            for m in parameters['max_depth']:\n",
    "                models.append(RandomForestClassifier(n_estimators=n, max_depth=m, random_state=0))\n",
    "        return models\n",
    "    def gen_models_gbm(parameters):\n",
    "        models = []\n",
    "        for n in parameters['n_estimators']:\n",
    "            for m in parameters['max_depth']:\n",
    "                for l in parameters['learning_rate']:\n",
    "                    models.append(GradientBoostingClassifier(n_estimators=n, max_depth=m, random_state=0))\n",
    "        return models\n",
    "    def gen_models_log(parameters):\n",
    "        models = []\n",
    "        for p in parameters['penalty']:\n",
    "            for c in parameters['C']:\n",
    "                models.append(linear_model.LogisticRegression(penalty=p, C=c))\n",
    "        return models\n",
    "\n",
    "    def gen_models_svm(parameters):\n",
    "        models = []\n",
    "        for c in parameters['C']:\n",
    "            for k in parameters['kernel']:\n",
    "                if 'gamma' in parameters:\n",
    "                    for g in parameters['gamma']:\n",
    "                        models.append(svm.SVC(C=c, kernel=k, gamma=g, probability=True))\n",
    "                else:\n",
    "                    models.append(svm.SVC(C=c, kernel=k, probability=True))\n",
    "\n",
    "        return models\n",
    "\n",
    "    param_gbm = { 'n_estimators':[50, 100,200],\n",
    "                  'learning_rate':[0.1,1.0],\n",
    "                  'max_depth':[1,2,3]}\n",
    "    param_rf  = {'n_estimators':[100,200,500,800,1000,],\n",
    "                  'max_depth':[1,2,4,6,8,10,13]}\n",
    "    param_svc = [\n",
    "                  {'C':[0.1, 1, 10, 100], 'kernel': ['linear']},\n",
    "                  {'C':[0.1, 1, 10, 100], 'gamma': [0.001, 0.0001], 'kernel': ['rbf']},\n",
    "                ]\n",
    "    param_log = {'penalty':('l1','l2'), \n",
    "                  'C':[0.1, 1, 10, 100]}\n",
    "    models  = gen_models_gbm(param_gbm)\n",
    "    models += gen_models_rf(param_rf)\n",
    "    models += gen_models_svm(param_svc[0])\n",
    "    models += gen_models_svm(param_svc[1])\n",
    "    models += gen_models_log(param_log)\n",
    "    selection_ind = [45, 38, 52, 31, 24, 16, 17, 30, 14, 15, 37]\n",
    "    models = [models[i] for i in selection_ind]\n",
    "    return models\n",
    "\n",
    "\n",
    "class model_collection:\n",
    "    def __init__(self, models):\n",
    "        self.models = models[:]\n",
    "    def fit(self, X_train, y_train):\n",
    "        self.classes = np.unique(y_train)\n",
    "        for i in range(len(self.models)):\n",
    "            self.models[i].fit(X_train,y_train)\n",
    "    def predict_proba(self, X_test):\n",
    "        self.y_proba = []\n",
    "        for m in self.models:\n",
    "            self.y_proba.append(m.predict_proba(X_test))\n",
    "        return self.y_proba\n",
    "    def predict(self, X_test):\n",
    "        self.y_pred = []\n",
    "        for m in self.models:\n",
    "            self.y_pred.append(m.predict(X_test))\n",
    "        return self.y_pred\n",
    "    \n",
    "\n",
    "class combined_model:\n",
    "    def __init__(self):\n",
    "        models = gen_models()\n",
    "        self.model_col = model_collection(models)\n",
    "    def fit(self, X_train, y_train):\n",
    "        self.model_col.fit(X_train, y_train)\n",
    "    def predict(self, X_test):\n",
    "        y_pred  = self.model_col.predict(X_test)\n",
    "        y_pred  = np.array(y_pred).T\n",
    "        y_proba = self.model_col.predict_proba(X_test)\n",
    "        y_proba_max = np.array([[row.max() for row in yy] for yy in y_proba]).T\n",
    "        \n",
    "        \n",
    "        # The sum of probabilities\n",
    "        y_proba_sum = np.zeros_like(y_proba[0])\n",
    "        for yy in y_proba:\n",
    "            y_proba_sum += yy\n",
    "        y_pred_sum = [self.model_col.classes[row.argmax()] for row in y_proba_sum]\n",
    "        \n",
    "        self.prediction = y_pred_sum\n",
    "#         print self.model_col.models[2]\n",
    "        return self.prediction\n",
    "        \n",
    "        \n",
    "def azureml_main(train_data = None, test_data = None):\n",
    "    features = [x for x in train_data.columns if x not in ['geo','segment','subgroup' ]]\n",
    "    test_data = test_data[features]\n",
    "    \n",
    "    X_train,y_train,X_test = preprocess_data(train_data, test_data)\n",
    "    \n",
    "    m = combined_model()\n",
    "    m.fit(X_train, y_train)\n",
    "    y_pred = m.predict(X_test)\n",
    "    \n",
    "#     test_data['Geo_Pred']      = y_pred/100\n",
    "#     test_data['Segment_Pred']  = y_pred/10%10\n",
    "#     test_data['Subgroup_Pred'] = y_pred%10\n",
    "    \n",
    "#     return test_data[['patientID','Geo_Pred','Segment_Pred','Subgroup_Pred']]\n",
    "\n",
    "#     output = pd.DataFrame()\n",
    "#     output['patientID']=test_data['patientID']\n",
    "#     output['Geo_Pred']      = y_pred/100\n",
    "#     output['Segment_Pred']  = y_pred/10%10\n",
    "#     output['Subgroup_Pred'] = y_pred%10\n",
    "#     return output\n",
    "    return y_pred\n",
    "\n",
    "\n",
    "\n",
    "\n",
    "    \n",
    "data = pd.read_csv('../datasets/WomenHealth_Training.csv')\n",
    "from sklearn.cross_validation import KFold\n",
    "scores = []\n",
    "for train_ind, valid_ind in KFold(data.shape[0], n_folds=4): \n",
    "    train_data = data.loc[train_ind,:]\n",
    "    test_data  = data.loc[valid_ind,:]\n",
    "    y_test = 100*test_data['geo'] + 10*test_data['segment'] + test_data['subgroup']\n",
    "    y_pred = azureml_main(train_data, test_data)\n",
    "    scores.append(sklearn.metrics.accuracy_score(y_pred, y_test))\n",
    "    print scores[-1]"
   ]
  },
  {
   "cell_type": "markdown",
   "metadata": {},
   "source": [
    "## 7. save model and upload to Azure"
   ]
  },
  {
   "cell_type": "code",
   "execution_count": null,
   "metadata": {
    "collapsed": false
   },
   "outputs": [],
   "source": [
    "class encode_categorical_feature:\n",
    "    def __init__(self,feature):\n",
    "        self.f_set = []\n",
    "        self.feature = feature\n",
    "    def fit(self,data):\n",
    "        if self.feature in data.columns:\n",
    "            self.f_set = sorted(list(data[self.feature].unique()))\n",
    "            f_values   = data[self.feature].apply(lambda x: [self.f_set.index(x)])\n",
    "            self.encoder = OneHotEncoder().fit(list(f_values))\n",
    "    def transform(self,data):\n",
    "        if not self.f_set:\n",
    "            return data\n",
    "        f_values  = data[self.feature].apply(lambda x: [self.f_set.index(x)])\n",
    "        f_encoded = self.encoder.transform(list(f_values)).toarray()\n",
    "        f_df      = pd.DataFrame(f_encoded, columns=[self.feature+'_'+str(x) for x in self.f_set])\n",
    "        new_data  = pd.concat([data.reset_index(drop=True),f_df], axis=1)\n",
    "        new_data.drop(self.feature, axis=1, inplace=True)\n",
    "        return new_data\n",
    "\n",
    "\n",
    "def preprocess_data_X(data):\n",
    "    features = [x for x in data.columns if x not in \n",
    "                    ['patientID', 'geo','segment','subgroup','combined_label', 'INTNR' ]]\n",
    "    X = data[features]\n",
    "    # select features\n",
    "    selection1 = [  'DISTRICT', u'tribe', u'REGION_PROVINCE', u'babydoc', u'foodinsecurity', \n",
    "                    u'religion_Buddhist', u'india', u'hindu', u'religion_Hindu', \n",
    "                    u'religion_Russian/Easter', u'educ', u'Debut', u'literacy', u'christian', \n",
    "                    u'hivknow', u'ModCon', u'age', u'thrasher', u'usecondom', \n",
    "                    u'religion_Other Christia', u'religion_Muslim', u'muslim', u'lowlit', \n",
    "                    u'multpart', u'motorcycle', u'CHILDREN', u'LaborDeliv']\n",
    "    selection2 = [  u'christian', u'hindu', u'REGION_PROVINCE', u'DISTRICT', u'electricity', \n",
    "                    u'age', u'tribe', u'foodinsecurity', u'EVER_HAD_SEX', u'EVER_BEEN_PREGNANT', \n",
    "                    u'CHILDREN', u'india', u'married', u'multpart', u'educ', u'literacy', \n",
    "                    u'LaborDeliv', u'babydoc', u'Debut', u'ModCon', u'usecondom', u'hivknow', \n",
    "                    u'religion_Buddhist', u'religion_Hindu', u'religion_Russian/Easter']\n",
    "    selection3 = [  u'DISTRICT', u'tribe', u'REGION_PROVINCE', u'babydoc', u'india', u'educ', \n",
    "                    u'Debut', u'literacy', u'hivknow', u'ModCon', u'age', u'usecondom', \n",
    "                    u'multpart', u'CHILDREN', u'LaborDeliv', u'married']\n",
    "    selected_features = selection1+selection2+selection3\n",
    "    X = X[selected_features]\n",
    "    return X.values\n",
    "\n",
    "    \n",
    "\n",
    "def preprocess_data_y(data):\n",
    "    target = 'combined_label'\n",
    "    data['combined_label'] = 100*data['geo'] + 10*data['segment'] + data['subgroup']\n",
    "    return data['combined_label'].values"
   ]
  },
  {
   "cell_type": "code",
   "execution_count": null,
   "metadata": {
    "collapsed": false
   },
   "outputs": [],
   "source": [
    "import os\n",
    "import pickle\n",
    "data = pd.read_csv('../datasets/WomenHealth_Training.csv')\n",
    "train_data, test_data = data, data\n",
    "\n",
    "t = encode_categorical_feature('religion')\n",
    "t.fit(train_data)\n",
    "train_data = t.transform(train_data)\n",
    "test_data = t.transform(test_data)\n",
    "X_train = preprocess_data_X(train_data)\n",
    "y_train = preprocess_data_X(train_data)\n",
    "X_test  = preprocess_data_X(test_data)\n",
    "y_test  = preprocess_data_X(test_data)\n",
    "\n",
    "m = RandomForestClassifier(n_estimators=1000, max_depth=13, random_state=0)\n",
    "m.fit(X_train,y_train)\n",
    "print sklearn.metrics.accuracy_score(y_test, m.predict(X_test))\n",
    "print os.getcwd()\n",
    "pickle.dump(m, open('rf_model.pkl', 'wb'))"
   ]
  },
  {
   "cell_type": "code",
   "execution_count": null,
   "metadata": {
    "collapsed": false
   },
   "outputs": [],
   "source": []
  },
  {
   "cell_type": "code",
   "execution_count": null,
   "metadata": {
    "collapsed": false
   },
   "outputs": [],
   "source": []
  },
  {
   "cell_type": "code",
   "execution_count": null,
   "metadata": {
    "collapsed": false
   },
   "outputs": [],
   "source": []
  },
  {
   "cell_type": "code",
   "execution_count": null,
   "metadata": {
    "collapsed": true
   },
   "outputs": [],
   "source": []
  }
 ],
 "metadata": {
  "kernelspec": {
   "display_name": "Python 2",
   "language": "python",
   "name": "python2"
  },
  "language_info": {
   "codemirror_mode": {
    "name": "ipython",
    "version": 2
   },
   "file_extension": ".py",
   "mimetype": "text/x-python",
   "name": "python",
   "nbconvert_exporter": "python",
   "pygments_lexer": "ipython2",
   "version": "2.7.10"
  }
 },
 "nbformat": 4,
 "nbformat_minor": 0
}
